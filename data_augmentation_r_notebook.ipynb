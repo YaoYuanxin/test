{
 "cells": [
  {
   "cell_type": "code",
   "execution_count": 1,
   "metadata": {},
   "outputs": [
    {
     "name": "stderr",
     "output_type": "stream",
     "text": [
      "R[write to console]: trying URL 'https://cloud.r-project.org/src/contrib/nlme_3.1-160.tar.gz'\n",
      "\n",
      "R[write to console]: Content type 'application/x-gzip'\n",
      "R[write to console]:  length 845714 bytes (825 KB)\n",
      "\n",
      "R[write to console]: =\n",
      "R[write to console]: =\n",
      "R[write to console]: =\n",
      "R[write to console]: =\n",
      "R[write to console]: =\n",
      "R[write to console]: =\n",
      "R[write to console]: =\n",
      "R[write to console]: =\n",
      "R[write to console]: =\n",
      "R[write to console]: =\n",
      "R[write to console]: =\n",
      "R[write to console]: =\n",
      "R[write to console]: =\n",
      "R[write to console]: =\n",
      "R[write to console]: =\n",
      "R[write to console]: =\n",
      "R[write to console]: =\n",
      "R[write to console]: =\n",
      "R[write to console]: =\n",
      "R[write to console]: =\n",
      "R[write to console]: =\n",
      "R[write to console]: =\n",
      "R[write to console]: =\n",
      "R[write to console]: =\n",
      "R[write to console]: =\n",
      "R[write to console]: =\n",
      "R[write to console]: =\n",
      "R[write to console]: =\n",
      "R[write to console]: =\n",
      "R[write to console]: =\n",
      "R[write to console]: =\n",
      "R[write to console]: =\n",
      "R[write to console]: =\n",
      "R[write to console]: =\n",
      "R[write to console]: =\n",
      "R[write to console]: =\n",
      "R[write to console]: =\n",
      "R[write to console]: =\n",
      "R[write to console]: =\n",
      "R[write to console]: =\n",
      "R[write to console]: =\n",
      "R[write to console]: =\n",
      "R[write to console]: =\n",
      "R[write to console]: =\n",
      "R[write to console]: =\n",
      "R[write to console]: =\n",
      "R[write to console]: =\n",
      "R[write to console]: =\n",
      "R[write to console]: =\n",
      "R[write to console]: =\n",
      "R[write to console]: \n",
      "\n",
      "R[write to console]: downloaded 825 KB\n",
      "\n",
      "\n",
      "* installing *source* package ‘nlme’ ...\n",
      "** package ‘nlme’ successfully unpacked and MD5 sums checked\n",
      "** using staged installation\n",
      "** libs\n"
     ]
    },
    {
     "name": "stdout",
     "output_type": "stream",
     "text": [
      "x86_64-conda-linux-gnu-gfortran -fno-optimize-sibling-calls  -fpic  -march=nocona -mtune=haswell -ftree-vectorize -fPIC -fstack-protector-strong -fno-plt -O2 -ffunction-sections -pipe -isystem /opt/conda/include -fdebug-prefix-map=/home/conda/feedstock_root/build_artifacts/r-base-split_1667676773505/work=/usr/local/src/conda/r-base-4.2.2 -fdebug-prefix-map=/opt/conda=/usr/local/src/conda-prefix  -c chol.f -o chol.o\n",
      "x86_64-conda-linux-gnu-cc -I\"/opt/conda/lib/R/include\" -DNDEBUG   -DNDEBUG -D_FORTIFY_SOURCE=2 -O2 -isystem /opt/conda/include -I/opt/conda/include -Wl,-rpath-link,/opt/conda/lib  -fvisibility=hidden -fpic  -march=nocona -mtune=haswell -ftree-vectorize -fPIC -fstack-protector-strong -fno-plt -O2 -ffunction-sections -pipe -isystem /opt/conda/include -fdebug-prefix-map=/home/conda/feedstock_root/build_artifacts/r-base-split_1667676773505/work=/usr/local/src/conda/r-base-4.2.2 -fdebug-prefix-map=/opt/conda=/usr/local/src/conda-prefix  -c corStruct.c -o corStruct.o\n",
      "x86_64-conda-linux-gnu-cc -I\"/opt/conda/lib/R/include\" -DNDEBUG   -DNDEBUG -D_FORTIFY_SOURCE=2 -O2 -isystem /opt/conda/include -I/opt/conda/include -Wl,-rpath-link,/opt/conda/lib  -fvisibility=hidden -fpic  -march=nocona -mtune=haswell -ftree-vectorize -fPIC -fstack-protector-strong -fno-plt -O2 -ffunction-sections -pipe -isystem /opt/conda/include -fdebug-prefix-map=/home/conda/feedstock_root/build_artifacts/r-base-split_1667676773505/work=/usr/local/src/conda/r-base-4.2.2 -fdebug-prefix-map=/opt/conda=/usr/local/src/conda-prefix  -c gnls.c -o gnls.o\n",
      "x86_64-conda-linux-gnu-cc -I\"/opt/conda/lib/R/include\" -DNDEBUG   -DNDEBUG -D_FORTIFY_SOURCE=2 -O2 -isystem /opt/conda/include -I/opt/conda/include -Wl,-rpath-link,/opt/conda/lib  -fvisibility=hidden -fpic  -march=nocona -mtune=haswell -ftree-vectorize -fPIC -fstack-protector-strong -fno-plt -O2 -ffunction-sections -pipe -isystem /opt/conda/include -fdebug-prefix-map=/home/conda/feedstock_root/build_artifacts/r-base-split_1667676773505/work=/usr/local/src/conda/r-base-4.2.2 -fdebug-prefix-map=/opt/conda=/usr/local/src/conda-prefix  -c init.c -o init.o\n",
      "x86_64-conda-linux-gnu-cc -I\"/opt/conda/lib/R/include\" -DNDEBUG   -DNDEBUG -D_FORTIFY_SOURCE=2 -O2 -isystem /opt/conda/include -I/opt/conda/include -Wl,-rpath-link,/opt/conda/lib  -fvisibility=hidden -fpic  -march=nocona -mtune=haswell -ftree-vectorize -fPIC -fstack-protector-strong -fno-plt -O2 -ffunction-sections -pipe -isystem /opt/conda/include -fdebug-prefix-map=/home/conda/feedstock_root/build_artifacts/r-base-split_1667676773505/work=/usr/local/src/conda/r-base-4.2.2 -fdebug-prefix-map=/opt/conda=/usr/local/src/conda-prefix  -c matrix.c -o matrix.o\n",
      "x86_64-conda-linux-gnu-cc -I\"/opt/conda/lib/R/include\" -DNDEBUG   -DNDEBUG -D_FORTIFY_SOURCE=2 -O2 -isystem /opt/conda/include -I/opt/conda/include -Wl,-rpath-link,/opt/conda/lib  -fvisibility=hidden -fpic  -march=nocona -mtune=haswell -ftree-vectorize -fPIC -fstack-protector-strong -fno-plt -O2 -ffunction-sections -pipe -isystem /opt/conda/include -fdebug-prefix-map=/home/conda/feedstock_root/build_artifacts/r-base-split_1667676773505/work=/usr/local/src/conda/r-base-4.2.2 -fdebug-prefix-map=/opt/conda=/usr/local/src/conda-prefix  -c nlOptimizer.c -o nlOptimizer.o\n",
      "x86_64-conda-linux-gnu-cc -I\"/opt/conda/lib/R/include\" -DNDEBUG   -DNDEBUG -D_FORTIFY_SOURCE=2 -O2 -isystem /opt/conda/include -I/opt/conda/include -Wl,-rpath-link,/opt/conda/lib  -fvisibility=hidden -fpic  -march=nocona -mtune=haswell -ftree-vectorize -fPIC -fstack-protector-strong -fno-plt -O2 -ffunction-sections -pipe -isystem /opt/conda/include -fdebug-prefix-map=/home/conda/feedstock_root/build_artifacts/r-base-split_1667676773505/work=/usr/local/src/conda/r-base-4.2.2 -fdebug-prefix-map=/opt/conda=/usr/local/src/conda-prefix  -c nlme.c -o nlme.o\n",
      "x86_64-conda-linux-gnu-cc -I\"/opt/conda/lib/R/include\" -DNDEBUG   -DNDEBUG -D_FORTIFY_SOURCE=2 -O2 -isystem /opt/conda/include -I/opt/conda/include -Wl,-rpath-link,/opt/conda/lib  -fvisibility=hidden -fpic  -march=nocona -mtune=haswell -ftree-vectorize -fPIC -fstack-protector-strong -fno-plt -O2 -ffunction-sections -pipe -isystem /opt/conda/include -fdebug-prefix-map=/home/conda/feedstock_root/build_artifacts/r-base-split_1667676773505/work=/usr/local/src/conda/r-base-4.2.2 -fdebug-prefix-map=/opt/conda=/usr/local/src/conda-prefix  -c nlmefit.c -o nlmefit.o\n",
      "x86_64-conda-linux-gnu-cc -I\"/opt/conda/lib/R/include\" -DNDEBUG   -DNDEBUG -D_FORTIFY_SOURCE=2 -O2 -isystem /opt/conda/include -I/opt/conda/include -Wl,-rpath-link,/opt/conda/lib  -fvisibility=hidden -fpic  -march=nocona -mtune=haswell -ftree-vectorize -fPIC -fstack-protector-strong -fno-plt -O2 -ffunction-sections -pipe -isystem /opt/conda/include -fdebug-prefix-map=/home/conda/feedstock_root/build_artifacts/r-base-split_1667676773505/work=/usr/local/src/conda/r-base-4.2.2 -fdebug-prefix-map=/opt/conda=/usr/local/src/conda-prefix  -c pdMat.c -o pdMat.o\n",
      "x86_64-conda-linux-gnu-cc -I\"/opt/conda/lib/R/include\" -DNDEBUG   -DNDEBUG -D_FORTIFY_SOURCE=2 -O2 -isystem /opt/conda/include -I/opt/conda/include -Wl,-rpath-link,/opt/conda/lib  -fvisibility=hidden -fpic  -march=nocona -mtune=haswell -ftree-vectorize -fPIC -fstack-protector-strong -fno-plt -O2 -ffunction-sections -pipe -isystem /opt/conda/include -fdebug-prefix-map=/home/conda/feedstock_root/build_artifacts/r-base-split_1667676773505/work=/usr/local/src/conda/r-base-4.2.2 -fdebug-prefix-map=/opt/conda=/usr/local/src/conda-prefix  -c pythag.c -o pythag.o\n",
      "x86_64-conda-linux-gnu-gfortran -fno-optimize-sibling-calls  -fpic  -march=nocona -mtune=haswell -ftree-vectorize -fPIC -fstack-protector-strong -fno-plt -O2 -ffunction-sections -pipe -isystem /opt/conda/include -fdebug-prefix-map=/home/conda/feedstock_root/build_artifacts/r-base-split_1667676773505/work=/usr/local/src/conda/r-base-4.2.2 -fdebug-prefix-map=/opt/conda=/usr/local/src/conda-prefix  -c rs.f -o rs.o\n",
      "x86_64-conda-linux-gnu-cc -shared -L/opt/conda/lib/R/lib -Wl,-O2 -Wl,--sort-common -Wl,--as-needed -Wl,-z,relro -Wl,-z,now -Wl,--disable-new-dtags -Wl,--gc-sections -Wl,--allow-shlib-undefined -Wl,-rpath,/opt/conda/lib -Wl,-rpath-link,/opt/conda/lib -L/opt/conda/lib -o nlme.so chol.o corStruct.o gnls.o init.o matrix.o nlOptimizer.o nlme.o nlmefit.o pdMat.o pythag.o rs.o -lgfortran -lm -lquadmath -L/opt/conda/lib/R/lib -lR\n"
     ]
    },
    {
     "name": "stderr",
     "output_type": "stream",
     "text": [
      "installing to /opt/conda/lib/R/library/00LOCK-nlme/00new/nlme/libs\n",
      "** R\n",
      "** data\n",
      "*** moving datasets to lazyload DB\n",
      "** inst\n",
      "** byte-compile and prepare package for lazy loading\n",
      "** help\n",
      "*** installing help indices\n",
      "** building package indices\n",
      "** testing if installed package can be loaded from temporary location\n",
      "** checking absolute paths in shared objects and dynamic libraries\n",
      "** testing if installed package can be loaded from final location\n",
      "** testing if installed package keeps a record of temporary installation path\n",
      "* DONE (nlme)\n",
      "R[write to console]: \n",
      "\n",
      "R[write to console]: \n",
      "R[write to console]: The downloaded source packages are in\n",
      "\t‘/tmp/RtmpniAIX5/downloaded_packages’\n",
      "R[write to console]: \n",
      "R[write to console]: \n",
      "\n",
      "R[write to console]: Updating HTML index of packages in '.Library'\n",
      "\n",
      "R[write to console]: Making 'packages.html' ...\n",
      "R[write to console]:  done\n",
      "\n",
      "R[write to console]: trying URL 'https://cloud.r-project.org/src/contrib/caret_6.0-93.tar.gz'\n",
      "\n",
      "R[write to console]: Content type 'application/x-gzip'\n",
      "R[write to console]:  length 2273775 bytes (2.2 MB)\n",
      "\n",
      "R[write to console]: =\n",
      "R[write to console]: =\n",
      "R[write to console]: =\n",
      "R[write to console]: =\n",
      "R[write to console]: =\n",
      "R[write to console]: =\n",
      "R[write to console]: =\n",
      "R[write to console]: =\n",
      "R[write to console]: =\n",
      "R[write to console]: =\n",
      "R[write to console]: =\n",
      "R[write to console]: =\n",
      "R[write to console]: =\n",
      "R[write to console]: =\n",
      "R[write to console]: =\n",
      "R[write to console]: =\n",
      "R[write to console]: =\n",
      "R[write to console]: =\n",
      "R[write to console]: =\n",
      "R[write to console]: =\n",
      "R[write to console]: =\n",
      "R[write to console]: =\n",
      "R[write to console]: =\n",
      "R[write to console]: =\n",
      "R[write to console]: =\n",
      "R[write to console]: =\n",
      "R[write to console]: =\n",
      "R[write to console]: =\n",
      "R[write to console]: =\n",
      "R[write to console]: =\n",
      "R[write to console]: =\n",
      "R[write to console]: =\n",
      "R[write to console]: =\n",
      "R[write to console]: =\n",
      "R[write to console]: =\n",
      "R[write to console]: =\n",
      "R[write to console]: =\n",
      "R[write to console]: =\n",
      "R[write to console]: =\n",
      "R[write to console]: =\n",
      "R[write to console]: =\n",
      "R[write to console]: =\n",
      "R[write to console]: =\n",
      "R[write to console]: =\n",
      "R[write to console]: =\n",
      "R[write to console]: =\n",
      "R[write to console]: =\n",
      "R[write to console]: =\n",
      "R[write to console]: =\n",
      "R[write to console]: =\n",
      "R[write to console]: \n",
      "\n",
      "R[write to console]: downloaded 2.2 MB\n",
      "\n",
      "\n",
      "* installing *source* package ‘caret’ ...\n",
      "** package ‘caret’ successfully unpacked and MD5 sums checked\n",
      "** using staged installation\n",
      "** libs\n",
      "installing to /opt/conda/lib/R/library/00LOCK-caret/00new/caret/libs\n",
      "** R\n"
     ]
    },
    {
     "name": "stdout",
     "output_type": "stream",
     "text": [
      "x86_64-conda-linux-gnu-cc -I\"/opt/conda/lib/R/include\" -DNDEBUG   -DNDEBUG -D_FORTIFY_SOURCE=2 -O2 -isystem /opt/conda/include -I/opt/conda/include -Wl,-rpath-link,/opt/conda/lib   -fpic  -march=nocona -mtune=haswell -ftree-vectorize -fPIC -fstack-protector-strong -fno-plt -O2 -ffunction-sections -pipe -isystem /opt/conda/include -fdebug-prefix-map=/home/conda/feedstock_root/build_artifacts/r-base-split_1667676773505/work=/usr/local/src/conda/r-base-4.2.2 -fdebug-prefix-map=/opt/conda=/usr/local/src/conda-prefix  -c caret.c -o caret.o\n",
      "x86_64-conda-linux-gnu-cc -shared -L/opt/conda/lib/R/lib -Wl,-O2 -Wl,--sort-common -Wl,--as-needed -Wl,-z,relro -Wl,-z,now -Wl,--disable-new-dtags -Wl,--gc-sections -Wl,--allow-shlib-undefined -Wl,-rpath,/opt/conda/lib -Wl,-rpath-link,/opt/conda/lib -L/opt/conda/lib -o caret.so caret.o -L/opt/conda/lib/R/lib -lR\n"
     ]
    },
    {
     "name": "stderr",
     "output_type": "stream",
     "text": [
      "** data\n",
      "** inst\n",
      "** byte-compile and prepare package for lazy loading\n"
     ]
    },
    {
     "name": "stdout",
     "output_type": "stream",
     "text": [
      "System has not been booted with systemd as init system (PID 1). Can't operate.\n",
      "Failed to connect to bus: Host is down\n",
      "Warning in system(\"timedatectl\", intern = TRUE) :\n",
      "  running command 'timedatectl' had status 1\n"
     ]
    },
    {
     "name": "stderr",
     "output_type": "stream",
     "text": [
      "** help\n",
      "*** installing help indices\n",
      "** building package indices\n",
      "** installing vignettes\n",
      "** testing if installed package can be loaded from temporary location\n"
     ]
    },
    {
     "name": "stdout",
     "output_type": "stream",
     "text": [
      "System has not been booted with systemd as init system (PID 1). Can't operate.\n",
      "Failed to connect to bus: Host is down\n",
      "Warning in system(\"timedatectl\", intern = TRUE) :\n",
      "  running command 'timedatectl' had status 1\n"
     ]
    },
    {
     "name": "stderr",
     "output_type": "stream",
     "text": [
      "** checking absolute paths in shared objects and dynamic libraries\n",
      "** testing if installed package can be loaded from final location\n",
      "** testing if installed package keeps a record of temporary installation path\n",
      "* DONE (caret)\n",
      "R[write to console]: \n",
      "\n",
      "R[write to console]: \n",
      "R[write to console]: The downloaded source packages are in\n",
      "\t‘/tmp/RtmpniAIX5/downloaded_packages’\n",
      "R[write to console]: \n",
      "R[write to console]: \n",
      "\n",
      "R[write to console]: Updating HTML index of packages in '.Library'\n",
      "\n",
      "R[write to console]: Making 'packages.html' ...\n",
      "R[write to console]:  done\n",
      "\n"
     ]
    },
    {
     "name": "stdout",
     "output_type": "stream",
     "text": [
      "System has not been booted with systemd as init system (PID 1). Can't operate.\n",
      "Failed to connect to bus: Host is down\n",
      "Warning in system(\"timedatectl\", intern = TRUE) :\n",
      "  running command 'timedatectl' had status 1\n"
     ]
    },
    {
     "name": "stderr",
     "output_type": "stream",
     "text": [
      "R[write to console]: trying URL 'https://cloud.r-project.org/src/contrib/readr_2.1.3.tar.gz'\n",
      "\n",
      "R[write to console]: Content type 'application/x-gzip'\n",
      "R[write to console]:  length 301790 bytes (294 KB)\n",
      "\n",
      "R[write to console]: =\n",
      "R[write to console]: =\n",
      "R[write to console]: =\n",
      "R[write to console]: =\n",
      "R[write to console]: =\n",
      "R[write to console]: =\n",
      "R[write to console]: =\n",
      "R[write to console]: =\n",
      "R[write to console]: =\n",
      "R[write to console]: =\n",
      "R[write to console]: =\n",
      "R[write to console]: =\n",
      "R[write to console]: =\n",
      "R[write to console]: =\n",
      "R[write to console]: =\n",
      "R[write to console]: =\n",
      "R[write to console]: =\n",
      "R[write to console]: =\n",
      "R[write to console]: =\n",
      "R[write to console]: =\n",
      "R[write to console]: =\n",
      "R[write to console]: =\n",
      "R[write to console]: =\n",
      "R[write to console]: =\n",
      "R[write to console]: =\n",
      "R[write to console]: =\n",
      "R[write to console]: =\n",
      "R[write to console]: =\n",
      "R[write to console]: =\n",
      "R[write to console]: =\n",
      "R[write to console]: =\n",
      "R[write to console]: =\n",
      "R[write to console]: =\n",
      "R[write to console]: =\n",
      "R[write to console]: =\n",
      "R[write to console]: =\n",
      "R[write to console]: =\n",
      "R[write to console]: =\n",
      "R[write to console]: =\n",
      "R[write to console]: =\n",
      "R[write to console]: =\n",
      "R[write to console]: =\n",
      "R[write to console]: =\n",
      "R[write to console]: =\n",
      "R[write to console]: =\n",
      "R[write to console]: =\n",
      "R[write to console]: =\n",
      "R[write to console]: =\n",
      "R[write to console]: =\n",
      "R[write to console]: =\n",
      "R[write to console]: \n",
      "\n",
      "R[write to console]: downloaded 294 KB\n",
      "\n",
      "\n",
      "* installing *source* package ‘readr’ ...\n",
      "** package ‘readr’ successfully unpacked and MD5 sums checked\n",
      "** using staged installation\n",
      "** libs\n"
     ]
    },
    {
     "name": "stdout",
     "output_type": "stream",
     "text": [
      "x86_64-conda-linux-gnu-c++ -std=gnu++11 -I\"/opt/conda/lib/R/include\" -DNDEBUG  -I'/opt/conda/lib/R/library/cpp11/include' -I'/opt/conda/lib/R/library/tzdb/include' -DNDEBUG -D_FORTIFY_SOURCE=2 -O2 -isystem /opt/conda/include -I/opt/conda/include -Wl,-rpath-link,/opt/conda/lib   -fpic  -fvisibility-inlines-hidden  -fmessage-length=0 -march=nocona -mtune=haswell -ftree-vectorize -fPIC -fstack-protector-strong -fno-plt -O2 -ffunction-sections -pipe -isystem /opt/conda/include -fdebug-prefix-map=/home/conda/feedstock_root/build_artifacts/r-base-split_1667676773505/work=/usr/local/src/conda/r-base-4.2.2 -fdebug-prefix-map=/opt/conda=/usr/local/src/conda-prefix  -c Collector.cpp -o Collector.o\n",
      "x86_64-conda-linux-gnu-c++ -std=gnu++11 -I\"/opt/conda/lib/R/include\" -DNDEBUG  -I'/opt/conda/lib/R/library/cpp11/include' -I'/opt/conda/lib/R/library/tzdb/include' -DNDEBUG -D_FORTIFY_SOURCE=2 -O2 -isystem /opt/conda/include -I/opt/conda/include -Wl,-rpath-link,/opt/conda/lib   -fpic  -fvisibility-inlines-hidden  -fmessage-length=0 -march=nocona -mtune=haswell -ftree-vectorize -fPIC -fstack-protector-strong -fno-plt -O2 -ffunction-sections -pipe -isystem /opt/conda/include -fdebug-prefix-map=/home/conda/feedstock_root/build_artifacts/r-base-split_1667676773505/work=/usr/local/src/conda/r-base-4.2.2 -fdebug-prefix-map=/opt/conda=/usr/local/src/conda-prefix  -c CollectorGuess.cpp -o CollectorGuess.o\n",
      "x86_64-conda-linux-gnu-c++ -std=gnu++11 -I\"/opt/conda/lib/R/include\" -DNDEBUG  -I'/opt/conda/lib/R/library/cpp11/include' -I'/opt/conda/lib/R/library/tzdb/include' -DNDEBUG -D_FORTIFY_SOURCE=2 -O2 -isystem /opt/conda/include -I/opt/conda/include -Wl,-rpath-link,/opt/conda/lib   -fpic  -fvisibility-inlines-hidden  -fmessage-length=0 -march=nocona -mtune=haswell -ftree-vectorize -fPIC -fstack-protector-strong -fno-plt -O2 -ffunction-sections -pipe -isystem /opt/conda/include -fdebug-prefix-map=/home/conda/feedstock_root/build_artifacts/r-base-split_1667676773505/work=/usr/local/src/conda/r-base-4.2.2 -fdebug-prefix-map=/opt/conda=/usr/local/src/conda-prefix  -c Iconv.cpp -o Iconv.o\n",
      "x86_64-conda-linux-gnu-c++ -std=gnu++11 -I\"/opt/conda/lib/R/include\" -DNDEBUG  -I'/opt/conda/lib/R/library/cpp11/include' -I'/opt/conda/lib/R/library/tzdb/include' -DNDEBUG -D_FORTIFY_SOURCE=2 -O2 -isystem /opt/conda/include -I/opt/conda/include -Wl,-rpath-link,/opt/conda/lib   -fpic  -fvisibility-inlines-hidden  -fmessage-length=0 -march=nocona -mtune=haswell -ftree-vectorize -fPIC -fstack-protector-strong -fno-plt -O2 -ffunction-sections -pipe -isystem /opt/conda/include -fdebug-prefix-map=/home/conda/feedstock_root/build_artifacts/r-base-split_1667676773505/work=/usr/local/src/conda/r-base-4.2.2 -fdebug-prefix-map=/opt/conda=/usr/local/src/conda-prefix  -c LocaleInfo.cpp -o LocaleInfo.o\n",
      "x86_64-conda-linux-gnu-c++ -std=gnu++11 -I\"/opt/conda/lib/R/include\" -DNDEBUG  -I'/opt/conda/lib/R/library/cpp11/include' -I'/opt/conda/lib/R/library/tzdb/include' -DNDEBUG -D_FORTIFY_SOURCE=2 -O2 -isystem /opt/conda/include -I/opt/conda/include -Wl,-rpath-link,/opt/conda/lib   -fpic  -fvisibility-inlines-hidden  -fmessage-length=0 -march=nocona -mtune=haswell -ftree-vectorize -fPIC -fstack-protector-strong -fno-plt -O2 -ffunction-sections -pipe -isystem /opt/conda/include -fdebug-prefix-map=/home/conda/feedstock_root/build_artifacts/r-base-split_1667676773505/work=/usr/local/src/conda/r-base-4.2.2 -fdebug-prefix-map=/opt/conda=/usr/local/src/conda-prefix  -c Reader.cpp -o Reader.o\n",
      "x86_64-conda-linux-gnu-c++ -std=gnu++11 -I\"/opt/conda/lib/R/include\" -DNDEBUG  -I'/opt/conda/lib/R/library/cpp11/include' -I'/opt/conda/lib/R/library/tzdb/include' -DNDEBUG -D_FORTIFY_SOURCE=2 -O2 -isystem /opt/conda/include -I/opt/conda/include -Wl,-rpath-link,/opt/conda/lib   -fpic  -fvisibility-inlines-hidden  -fmessage-length=0 -march=nocona -mtune=haswell -ftree-vectorize -fPIC -fstack-protector-strong -fno-plt -O2 -ffunction-sections -pipe -isystem /opt/conda/include -fdebug-prefix-map=/home/conda/feedstock_root/build_artifacts/r-base-split_1667676773505/work=/usr/local/src/conda/r-base-4.2.2 -fdebug-prefix-map=/opt/conda=/usr/local/src/conda-prefix  -c Source.cpp -o Source.o\n",
      "x86_64-conda-linux-gnu-c++ -std=gnu++11 -I\"/opt/conda/lib/R/include\" -DNDEBUG  -I'/opt/conda/lib/R/library/cpp11/include' -I'/opt/conda/lib/R/library/tzdb/include' -DNDEBUG -D_FORTIFY_SOURCE=2 -O2 -isystem /opt/conda/include -I/opt/conda/include -Wl,-rpath-link,/opt/conda/lib   -fpic  -fvisibility-inlines-hidden  -fmessage-length=0 -march=nocona -mtune=haswell -ftree-vectorize -fPIC -fstack-protector-strong -fno-plt -O2 -ffunction-sections -pipe -isystem /opt/conda/include -fdebug-prefix-map=/home/conda/feedstock_root/build_artifacts/r-base-split_1667676773505/work=/usr/local/src/conda/r-base-4.2.2 -fdebug-prefix-map=/opt/conda=/usr/local/src/conda-prefix  -c Tokenizer.cpp -o Tokenizer.o\n",
      "x86_64-conda-linux-gnu-c++ -std=gnu++11 -I\"/opt/conda/lib/R/include\" -DNDEBUG  -I'/opt/conda/lib/R/library/cpp11/include' -I'/opt/conda/lib/R/library/tzdb/include' -DNDEBUG -D_FORTIFY_SOURCE=2 -O2 -isystem /opt/conda/include -I/opt/conda/include -Wl,-rpath-link,/opt/conda/lib   -fpic  -fvisibility-inlines-hidden  -fmessage-length=0 -march=nocona -mtune=haswell -ftree-vectorize -fPIC -fstack-protector-strong -fno-plt -O2 -ffunction-sections -pipe -isystem /opt/conda/include -fdebug-prefix-map=/home/conda/feedstock_root/build_artifacts/r-base-split_1667676773505/work=/usr/local/src/conda/r-base-4.2.2 -fdebug-prefix-map=/opt/conda=/usr/local/src/conda-prefix  -c TokenizerDelim.cpp -o TokenizerDelim.o\n",
      "x86_64-conda-linux-gnu-c++ -std=gnu++11 -I\"/opt/conda/lib/R/include\" -DNDEBUG  -I'/opt/conda/lib/R/library/cpp11/include' -I'/opt/conda/lib/R/library/tzdb/include' -DNDEBUG -D_FORTIFY_SOURCE=2 -O2 -isystem /opt/conda/include -I/opt/conda/include -Wl,-rpath-link,/opt/conda/lib   -fpic  -fvisibility-inlines-hidden  -fmessage-length=0 -march=nocona -mtune=haswell -ftree-vectorize -fPIC -fstack-protector-strong -fno-plt -O2 -ffunction-sections -pipe -isystem /opt/conda/include -fdebug-prefix-map=/home/conda/feedstock_root/build_artifacts/r-base-split_1667676773505/work=/usr/local/src/conda/r-base-4.2.2 -fdebug-prefix-map=/opt/conda=/usr/local/src/conda-prefix  -c TokenizerFwf.cpp -o TokenizerFwf.o\n",
      "x86_64-conda-linux-gnu-c++ -std=gnu++11 -I\"/opt/conda/lib/R/include\" -DNDEBUG  -I'/opt/conda/lib/R/library/cpp11/include' -I'/opt/conda/lib/R/library/tzdb/include' -DNDEBUG -D_FORTIFY_SOURCE=2 -O2 -isystem /opt/conda/include -I/opt/conda/include -Wl,-rpath-link,/opt/conda/lib   -fpic  -fvisibility-inlines-hidden  -fmessage-length=0 -march=nocona -mtune=haswell -ftree-vectorize -fPIC -fstack-protector-strong -fno-plt -O2 -ffunction-sections -pipe -isystem /opt/conda/include -fdebug-prefix-map=/home/conda/feedstock_root/build_artifacts/r-base-split_1667676773505/work=/usr/local/src/conda/r-base-4.2.2 -fdebug-prefix-map=/opt/conda=/usr/local/src/conda-prefix  -c TokenizerWs.cpp -o TokenizerWs.o\n",
      "x86_64-conda-linux-gnu-c++ -std=gnu++11 -I\"/opt/conda/lib/R/include\" -DNDEBUG  -I'/opt/conda/lib/R/library/cpp11/include' -I'/opt/conda/lib/R/library/tzdb/include' -DNDEBUG -D_FORTIFY_SOURCE=2 -O2 -isystem /opt/conda/include -I/opt/conda/include -Wl,-rpath-link,/opt/conda/lib   -fpic  -fvisibility-inlines-hidden  -fmessage-length=0 -march=nocona -mtune=haswell -ftree-vectorize -fPIC -fstack-protector-strong -fno-plt -O2 -ffunction-sections -pipe -isystem /opt/conda/include -fdebug-prefix-map=/home/conda/feedstock_root/build_artifacts/r-base-split_1667676773505/work=/usr/local/src/conda/r-base-4.2.2 -fdebug-prefix-map=/opt/conda=/usr/local/src/conda-prefix  -c connection.cpp -o connection.o\n",
      "x86_64-conda-linux-gnu-c++ -std=gnu++11 -I\"/opt/conda/lib/R/include\" -DNDEBUG  -I'/opt/conda/lib/R/library/cpp11/include' -I'/opt/conda/lib/R/library/tzdb/include' -DNDEBUG -D_FORTIFY_SOURCE=2 -O2 -isystem /opt/conda/include -I/opt/conda/include -Wl,-rpath-link,/opt/conda/lib   -fpic  -fvisibility-inlines-hidden  -fmessage-length=0 -march=nocona -mtune=haswell -ftree-vectorize -fPIC -fstack-protector-strong -fno-plt -O2 -ffunction-sections -pipe -isystem /opt/conda/include -fdebug-prefix-map=/home/conda/feedstock_root/build_artifacts/r-base-split_1667676773505/work=/usr/local/src/conda/r-base-4.2.2 -fdebug-prefix-map=/opt/conda=/usr/local/src/conda-prefix  -c cpp11.cpp -o cpp11.o\n",
      "x86_64-conda-linux-gnu-c++ -std=gnu++11 -I\"/opt/conda/lib/R/include\" -DNDEBUG  -I'/opt/conda/lib/R/library/cpp11/include' -I'/opt/conda/lib/R/library/tzdb/include' -DNDEBUG -D_FORTIFY_SOURCE=2 -O2 -isystem /opt/conda/include -I/opt/conda/include -Wl,-rpath-link,/opt/conda/lib   -fpic  -fvisibility-inlines-hidden  -fmessage-length=0 -march=nocona -mtune=haswell -ftree-vectorize -fPIC -fstack-protector-strong -fno-plt -O2 -ffunction-sections -pipe -isystem /opt/conda/include -fdebug-prefix-map=/home/conda/feedstock_root/build_artifacts/r-base-split_1667676773505/work=/usr/local/src/conda/r-base-4.2.2 -fdebug-prefix-map=/opt/conda=/usr/local/src/conda-prefix  -c datetime.cpp -o datetime.o\n",
      "x86_64-conda-linux-gnu-cc -I\"/opt/conda/lib/R/include\" -DNDEBUG  -I'/opt/conda/lib/R/library/cpp11/include' -I'/opt/conda/lib/R/library/tzdb/include' -DNDEBUG -D_FORTIFY_SOURCE=2 -O2 -isystem /opt/conda/include -I/opt/conda/include -Wl,-rpath-link,/opt/conda/lib   -fpic  -march=nocona -mtune=haswell -ftree-vectorize -fPIC -fstack-protector-strong -fno-plt -O2 -ffunction-sections -pipe -isystem /opt/conda/include -fdebug-prefix-map=/home/conda/feedstock_root/build_artifacts/r-base-split_1667676773505/work=/usr/local/src/conda/r-base-4.2.2 -fdebug-prefix-map=/opt/conda=/usr/local/src/conda-prefix  -c grisu3.c -o grisu3.o\n",
      "x86_64-conda-linux-gnu-cc -I\"/opt/conda/lib/R/include\" -DNDEBUG  -I'/opt/conda/lib/R/library/cpp11/include' -I'/opt/conda/lib/R/library/tzdb/include' -DNDEBUG -D_FORTIFY_SOURCE=2 -O2 -isystem /opt/conda/include -I/opt/conda/include -Wl,-rpath-link,/opt/conda/lib   -fpic  -march=nocona -mtune=haswell -ftree-vectorize -fPIC -fstack-protector-strong -fno-plt -O2 -ffunction-sections -pipe -isystem /opt/conda/include -fdebug-prefix-map=/home/conda/feedstock_root/build_artifacts/r-base-split_1667676773505/work=/usr/local/src/conda/r-base-4.2.2 -fdebug-prefix-map=/opt/conda=/usr/local/src/conda-prefix  -c init.c -o init.o\n",
      "x86_64-conda-linux-gnu-c++ -std=gnu++11 -I\"/opt/conda/lib/R/include\" -DNDEBUG  -I'/opt/conda/lib/R/library/cpp11/include' -I'/opt/conda/lib/R/library/tzdb/include' -DNDEBUG -D_FORTIFY_SOURCE=2 -O2 -isystem /opt/conda/include -I/opt/conda/include -Wl,-rpath-link,/opt/conda/lib   -fpic  -fvisibility-inlines-hidden  -fmessage-length=0 -march=nocona -mtune=haswell -ftree-vectorize -fPIC -fstack-protector-strong -fno-plt -O2 -ffunction-sections -pipe -isystem /opt/conda/include -fdebug-prefix-map=/home/conda/feedstock_root/build_artifacts/r-base-split_1667676773505/work=/usr/local/src/conda/r-base-4.2.2 -fdebug-prefix-map=/opt/conda=/usr/local/src/conda-prefix  -c parse.cpp -o parse.o\n",
      "x86_64-conda-linux-gnu-c++ -std=gnu++11 -I\"/opt/conda/lib/R/include\" -DNDEBUG  -I'/opt/conda/lib/R/library/cpp11/include' -I'/opt/conda/lib/R/library/tzdb/include' -DNDEBUG -D_FORTIFY_SOURCE=2 -O2 -isystem /opt/conda/include -I/opt/conda/include -Wl,-rpath-link,/opt/conda/lib   -fpic  -fvisibility-inlines-hidden  -fmessage-length=0 -march=nocona -mtune=haswell -ftree-vectorize -fPIC -fstack-protector-strong -fno-plt -O2 -ffunction-sections -pipe -isystem /opt/conda/include -fdebug-prefix-map=/home/conda/feedstock_root/build_artifacts/r-base-split_1667676773505/work=/usr/local/src/conda/r-base-4.2.2 -fdebug-prefix-map=/opt/conda=/usr/local/src/conda-prefix  -c read.cpp -o read.o\n",
      "x86_64-conda-linux-gnu-c++ -std=gnu++11 -I\"/opt/conda/lib/R/include\" -DNDEBUG  -I'/opt/conda/lib/R/library/cpp11/include' -I'/opt/conda/lib/R/library/tzdb/include' -DNDEBUG -D_FORTIFY_SOURCE=2 -O2 -isystem /opt/conda/include -I/opt/conda/include -Wl,-rpath-link,/opt/conda/lib   -fpic  -fvisibility-inlines-hidden  -fmessage-length=0 -march=nocona -mtune=haswell -ftree-vectorize -fPIC -fstack-protector-strong -fno-plt -O2 -ffunction-sections -pipe -isystem /opt/conda/include -fdebug-prefix-map=/home/conda/feedstock_root/build_artifacts/r-base-split_1667676773505/work=/usr/local/src/conda/r-base-4.2.2 -fdebug-prefix-map=/opt/conda=/usr/local/src/conda-prefix  -c type_convert.cpp -o type_convert.o\n",
      "x86_64-conda-linux-gnu-c++ -std=gnu++11 -I\"/opt/conda/lib/R/include\" -DNDEBUG  -I'/opt/conda/lib/R/library/cpp11/include' -I'/opt/conda/lib/R/library/tzdb/include' -DNDEBUG -D_FORTIFY_SOURCE=2 -O2 -isystem /opt/conda/include -I/opt/conda/include -Wl,-rpath-link,/opt/conda/lib   -fpic  -fvisibility-inlines-hidden  -fmessage-length=0 -march=nocona -mtune=haswell -ftree-vectorize -fPIC -fstack-protector-strong -fno-plt -O2 -ffunction-sections -pipe -isystem /opt/conda/include -fdebug-prefix-map=/home/conda/feedstock_root/build_artifacts/r-base-split_1667676773505/work=/usr/local/src/conda/r-base-4.2.2 -fdebug-prefix-map=/opt/conda=/usr/local/src/conda-prefix  -c write.cpp -o write.o\n",
      "x86_64-conda-linux-gnu-c++ -std=gnu++11 -I\"/opt/conda/lib/R/include\" -DNDEBUG  -I'/opt/conda/lib/R/library/cpp11/include' -I'/opt/conda/lib/R/library/tzdb/include' -DNDEBUG -D_FORTIFY_SOURCE=2 -O2 -isystem /opt/conda/include -I/opt/conda/include -Wl,-rpath-link,/opt/conda/lib   -fpic  -fvisibility-inlines-hidden  -fmessage-length=0 -march=nocona -mtune=haswell -ftree-vectorize -fPIC -fstack-protector-strong -fno-plt -O2 -ffunction-sections -pipe -isystem /opt/conda/include -fdebug-prefix-map=/home/conda/feedstock_root/build_artifacts/r-base-split_1667676773505/work=/usr/local/src/conda/r-base-4.2.2 -fdebug-prefix-map=/opt/conda=/usr/local/src/conda-prefix  -c write_delim.cpp -o write_delim.o\n",
      "x86_64-conda-linux-gnu-c++ -std=gnu++11 -shared -L/opt/conda/lib/R/lib -Wl,-O2 -Wl,--sort-common -Wl,--as-needed -Wl,-z,relro -Wl,-z,now -Wl,--disable-new-dtags -Wl,--gc-sections -Wl,--allow-shlib-undefined -Wl,-rpath,/opt/conda/lib -Wl,-rpath-link,/opt/conda/lib -L/opt/conda/lib -o readr.so Collector.o CollectorGuess.o Iconv.o LocaleInfo.o Reader.o Source.o Tokenizer.o TokenizerDelim.o TokenizerFwf.o TokenizerWs.o connection.o cpp11.o datetime.o grisu3.o init.o parse.o read.o type_convert.o write.o write_delim.o -L/opt/conda/lib/R/lib -lR\n"
     ]
    },
    {
     "name": "stderr",
     "output_type": "stream",
     "text": [
      "installing to /opt/conda/lib/R/library/00LOCK-readr/00new/readr/libs\n",
      "** R\n",
      "** inst\n",
      "** byte-compile and prepare package for lazy loading\n",
      "** help\n",
      "*** installing help indices\n",
      "*** copying figures\n",
      "** building package indices\n",
      "** installing vignettes\n",
      "** testing if installed package can be loaded from temporary location\n",
      "** checking absolute paths in shared objects and dynamic libraries\n",
      "** testing if installed package can be loaded from final location\n",
      "** testing if installed package keeps a record of temporary installation path\n",
      "* DONE (readr)\n",
      "R[write to console]: \n",
      "\n",
      "R[write to console]: \n",
      "R[write to console]: The downloaded source packages are in\n",
      "\t‘/tmp/RtmpniAIX5/downloaded_packages’\n",
      "R[write to console]: \n",
      "R[write to console]: \n",
      "\n",
      "R[write to console]: Updating HTML index of packages in '.Library'\n",
      "\n",
      "R[write to console]: Making 'packages.html' ...\n",
      "R[write to console]:  done\n",
      "\n",
      "System has not been booted with systemd as init system (PID 1). Can't operate.\n",
      "Failed to connect to bus: Host is down\n"
     ]
    }
   ],
   "source": [
    "import rpy2\n",
    "import rpy2.robjects as robjects\n",
    "import rpy2.robjects.packages as rpackages\n",
    "from rpy2.robjects.packages import importr\n",
    "\n",
    "utils = rpackages.importr('utils')\n",
    "utils.chooseCRANmirror(ind=1)\n",
    "\n",
    "\n",
    "# Install packages\n",
    "utils.install_packages('nlme')\n",
    "utils.install_packages('caret')\n",
    "utils.install_packages('readr')\n",
    "\n",
    "#Load packages\n",
    "nlme = importr('nlme')\n",
    "nlme = importr('caret')\n",
    "nlme = importr('readr')"
   ]
  },
  {
   "cell_type": "code",
   "execution_count": 2,
   "metadata": {},
   "outputs": [
    {
     "name": "stdout",
     "output_type": "stream",
     "text": [
      "New names:\n",
      "• `` -> `...1`\n",
      "Rows: 5625 Columns: 4\n",
      "── Column specification ────────────────────────────────────────────────────────\n",
      "Delimiter: \",\"\n",
      "dbl (4): ...1, id, gadays, efw\n",
      "\n",
      "ℹ Use `spec()` to retrieve the full column specification for this data.\n",
      "ℹ Specify the column types or set `show_col_types = FALSE` to quiet this message.\n"
     ]
    },
    {
     "data": {
      "text/html": [
       "\n",
       "        <span>R/rpy2 DataFrame (245250 x 4)</span>\n",
       "        <table>\n",
       "          <thead>\n",
       "            <tr>\n",
       "              \n",
       "              <th>id</th>\n",
       "              \n",
       "              <th>gadays</th>\n",
       "              \n",
       "              <th>gadays_2</th>\n",
       "              \n",
       "              <th>efw</th>\n",
       "              \n",
       "            </tr>\n",
       "          </thead>\n",
       "          <tbody>\n",
       "          \n",
       "          <tr>\n",
       "            \n",
       "            <td>\n",
       "              ...\n",
       "            </td>\n",
       "            \n",
       "            <td>\n",
       "              ...\n",
       "            </td>\n",
       "            \n",
       "            <td>\n",
       "              ...\n",
       "            </td>\n",
       "            \n",
       "            <td>\n",
       "              ...\n",
       "            </td>\n",
       "            \n",
       "          </tr>\n",
       "          \n",
       "          </tbody>\n",
       "        </table>\n",
       "    "
      ],
      "text/plain": [
       "<rpy2.robjects.vectors.DataFrame object at 0x7f37bf71b140> [RTYPES.VECSXP]\n",
       "R classes: ('data.frame',)\n",
       "[IntSexpVec..., IntSexpVec..., FloatSexpV..., FloatSexpV...]\n",
       "  id: <class 'rpy2.rinterface.IntSexpVector'>\n",
       "  <rpy2.rinterface.IntSexpVector object at 0x7f37bf01d140> [RTYPES.INTSXP]\n",
       "  gadays: <class 'rpy2.rinterface.IntSexpVector'>\n",
       "  <rpy2.rinterface.IntSexpVector object at 0x7f37bf01ce40> [RTYPES.INTSXP]\n",
       "  gadays_2: <class 'rpy2.rinterface.FloatSexpVector'>\n",
       "  <rpy2.rinterface.FloatSexpVector object at 0x7f37bf01d140> [RTYPES.REALSXP]\n",
       "  efw: <class 'rpy2.rinterface.FloatSexpVector'>\n",
       "  <rpy2.rinterface.FloatSexpVector object at 0x7f37bf01ce40> [RTYPES.REALSXP]"
      ]
     },
     "execution_count": 2,
     "metadata": {},
     "output_type": "execute_result"
    }
   ],
   "source": [
    "robjects.r('''\n",
    "no_covariate_no_na_clean <- read_csv(\"/workspaces/test/no_covariate_no_na_clean.csv\")\n",
    "\n",
    "no_covariate_no_na_clean_grouped = groupedData( efw ~ gadays | id,\n",
    "                                                data = no_covariate_no_na_clean)\n",
    "\n",
    "no_covariate_no_na_clean_grouped = no_covariate_no_na_clean_grouped[,-1]\n",
    "gadays = no_covariate_no_na_clean$gadays\n",
    "gadays_2 = gadays^2\n",
    "\n",
    "\n",
    "no_covariate_no_na_clean_grouped_2 = as.data.frame(cbind(no_covariate_no_na_clean_grouped,gadays_2))\n",
    "st2 = lm(efw~gadays+gadays_2,data=no_covariate_no_na_clean_grouped_2)$coefficients\n",
    "\n",
    "co = nlmeControl( returnObject=T)\n",
    "augmented_time = seq(84,301)\n",
    "fit3 = nlme(efw~eff,fixed=eff~gadays+gadays_2,random=eff~gadays+gadays_2|id,\n",
    "            data=no_covariate_no_na_clean_grouped_2,start=st2,control=co)\n",
    "\n",
    "new_data_2 = data.frame(id = rep(unique(no_covariate_no_na_clean_grouped$id),each = length(augmented_time)), \n",
    "                        gadays = rep(augmented_time,length(unique(unique(no_covariate_no_na_clean_grouped$id)))),\n",
    "                        gadays_2 = rep(augmented_time,length(unique(unique(no_covariate_no_na_clean_grouped$id))))^2)\n",
    "\n",
    "augmented_quad = predict(fit3, newdata = new_data_2 , level = 1)\n",
    "augmented_quad_df = data.frame(id = rep(unique(no_covariate_no_na_clean_grouped$id),each = length(augmented_time)), \n",
    "                             gadays = rep(augmented_time,length(unique(unique(no_covariate_no_na_clean_grouped$id)))),\n",
    "                             gadays_2 = rep(augmented_time,length(unique(unique(no_covariate_no_na_clean_grouped$id))))^2,\n",
    "                             efw = augmented_quad)''')"
   ]
  },
  {
   "cell_type": "code",
   "execution_count": 3,
   "metadata": {},
   "outputs": [],
   "source": [
    "augmented_quad_df_r = robjects.globalenv['augmented_quad_df']"
   ]
  },
  {
   "cell_type": "code",
   "execution_count": 4,
   "metadata": {},
   "outputs": [],
   "source": [
    "import pandas as pd\n",
    "import rpy2.robjects as ro\n",
    "from rpy2.robjects.packages import importr\n",
    "from rpy2.robjects import pandas2ri\n",
    "\n",
    "from rpy2.robjects.conversion import localconverter"
   ]
  },
  {
   "cell_type": "code",
   "execution_count": 5,
   "metadata": {},
   "outputs": [],
   "source": [
    "with localconverter(ro.default_converter + pandas2ri.converter):\n",
    "  augmented_quad_df = ro.conversion.rpy2py(augmented_quad_df_r)\n"
   ]
  },
  {
   "cell_type": "code",
   "execution_count": 36,
   "metadata": {},
   "outputs": [],
   "source": [
    "augmented_quad_df.id = augmented_quad_df.id.astype('int64')"
   ]
  },
  {
   "cell_type": "code",
   "execution_count": 37,
   "metadata": {},
   "outputs": [],
   "source": [
    "raw_copy = pd.read_csv('/workspaces/test/raw_copy.csv',index_col=0)\n",
    "no_covariate_no_na_clean = pd.read_csv('/workspaces/test/no_covariate_no_na_clean.csv',index_col = 0)"
   ]
  },
  {
   "cell_type": "code",
   "execution_count": 39,
   "metadata": {},
   "outputs": [
    {
     "name": "stdout",
     "output_type": "stream",
     "text": [
      "Done.\n",
      "All subjects has original data inserted back to augmented data.\n"
     ]
    }
   ],
   "source": [
    "import numpy as np\n",
    "augmented_data_quadratic_df_inserted = augmented_quad_df.copy()\n",
    "for id in augmented_quad_df.id.unique():\n",
    "\n",
    "  original_subject_id = no_covariate_no_na_clean[no_covariate_no_na_clean.id == id]\n",
    "  if id in raw_copy[raw_copy.gadays == raw_copy.birthday].id.values:\n",
    "    augmented_data_quadratic_df_inserted.loc[(augmented_quad_df.gadays.isin(original_subject_id.gadays)) & (augmented_quad_df.id == id),'efw']\\\n",
    "    =np.delete(original_subject_id.efw.values,3)\n",
    "  else:\n",
    "    augmented_data_quadratic_df_inserted.loc[(augmented_quad_df.gadays.isin(original_subject_id.gadays)) & (augmented_quad_df.id == id),'efw']\\\n",
    "    =original_subject_id.efw.values\n",
    " \n",
    "  #print(\"Subject id\",id,'has original data inserted back to augmented data')\n",
    "print(\"Done.\")\n",
    "print(\"All subjects has original data inserted back to augmented data.\")"
   ]
  },
  {
   "cell_type": "code",
   "execution_count": 40,
   "metadata": {},
   "outputs": [
    {
     "data": {
      "text/plain": [
       "33      187.904403\n",
       "83      593.207080\n",
       "140    1777.279353\n",
       "166    2628.517233\n",
       "188    3100.000000\n",
       "Name: efw, dtype: float64"
      ]
     },
     "execution_count": 40,
     "metadata": {},
     "output_type": "execute_result"
    }
   ],
   "source": [
    "id = augmented_quad_df.id.unique()[0]\n",
    "original_subject_id = no_covariate_no_na_clean[no_covariate_no_na_clean.id == id]\n",
    "augmented_data_quadratic_df_inserted.loc[(augmented_quad_df.gadays.isin(original_subject_id.gadays)) & (augmented_quad_df.id == id),'efw']"
   ]
  },
  {
   "cell_type": "code",
   "execution_count": 25,
   "metadata": {},
   "outputs": [
    {
     "data": {
      "text/html": [
       "<div>\n",
       "<style scoped>\n",
       "    .dataframe tbody tr th:only-of-type {\n",
       "        vertical-align: middle;\n",
       "    }\n",
       "\n",
       "    .dataframe tbody tr th {\n",
       "        vertical-align: top;\n",
       "    }\n",
       "\n",
       "    .dataframe thead th {\n",
       "        text-align: right;\n",
       "    }\n",
       "</style>\n",
       "<table border=\"1\" class=\"dataframe\">\n",
       "  <thead>\n",
       "    <tr style=\"text-align: right;\">\n",
       "      <th></th>\n",
       "      <th>id</th>\n",
       "      <th>gadays</th>\n",
       "      <th>efw</th>\n",
       "    </tr>\n",
       "  </thead>\n",
       "  <tbody>\n",
       "  </tbody>\n",
       "</table>\n",
       "</div>"
      ],
      "text/plain": [
       "Empty DataFrame\n",
       "Columns: [id, gadays, efw]\n",
       "Index: []"
      ]
     },
     "execution_count": 25,
     "metadata": {},
     "output_type": "execute_result"
    }
   ],
   "source": [
    "original_subject_id"
   ]
  },
  {
   "cell_type": "code",
   "execution_count": 15,
   "metadata": {},
   "outputs": [
    {
     "data": {
      "text/html": [
       "<div>\n",
       "<style scoped>\n",
       "    .dataframe tbody tr th:only-of-type {\n",
       "        vertical-align: middle;\n",
       "    }\n",
       "\n",
       "    .dataframe tbody tr th {\n",
       "        vertical-align: top;\n",
       "    }\n",
       "\n",
       "    .dataframe thead th {\n",
       "        text-align: right;\n",
       "    }\n",
       "</style>\n",
       "<table border=\"1\" class=\"dataframe\">\n",
       "  <thead>\n",
       "    <tr style=\"text-align: right;\">\n",
       "      <th></th>\n",
       "      <th>id</th>\n",
       "      <th>gadays</th>\n",
       "      <th>gadays_2</th>\n",
       "      <th>efw</th>\n",
       "    </tr>\n",
       "  </thead>\n",
       "  <tbody>\n",
       "  </tbody>\n",
       "</table>\n",
       "</div>"
      ],
      "text/plain": [
       "Empty DataFrame\n",
       "Columns: [id, gadays, gadays_2, efw]\n",
       "Index: []"
      ]
     },
     "execution_count": 15,
     "metadata": {},
     "output_type": "execute_result"
    }
   ],
   "source": [
    "augmented_data_quadratic_df_inserted.loc[augmented_data_quadratic_df_inserted.id == 3]"
   ]
  },
  {
   "cell_type": "code",
   "execution_count": 12,
   "metadata": {},
   "outputs": [
    {
     "data": {
      "text/plain": [
       "array([ 187.90440346,  593.20708002, 1777.27935339, 2628.51723252,\n",
       "       3100.        ])"
      ]
     },
     "execution_count": 12,
     "metadata": {},
     "output_type": "execute_result"
    }
   ],
   "source": [
    "original_subject_id.efw.values"
   ]
  },
  {
   "cell_type": "code",
   "execution_count": 18,
   "metadata": {},
   "outputs": [
    {
     "data": {
      "text/html": [
       "<div>\n",
       "<style scoped>\n",
       "    .dataframe tbody tr th:only-of-type {\n",
       "        vertical-align: middle;\n",
       "    }\n",
       "\n",
       "    .dataframe tbody tr th {\n",
       "        vertical-align: top;\n",
       "    }\n",
       "\n",
       "    .dataframe thead th {\n",
       "        text-align: right;\n",
       "    }\n",
       "</style>\n",
       "<table border=\"1\" class=\"dataframe\">\n",
       "  <thead>\n",
       "    <tr style=\"text-align: right;\">\n",
       "      <th></th>\n",
       "      <th>id</th>\n",
       "      <th>gadays</th>\n",
       "      <th>gadays_2</th>\n",
       "      <th>efw</th>\n",
       "    </tr>\n",
       "  </thead>\n",
       "  <tbody>\n",
       "    <tr>\n",
       "      <th>1</th>\n",
       "      <td>3</td>\n",
       "      <td>84</td>\n",
       "      <td>7056.0</td>\n",
       "      <td>-123.969829</td>\n",
       "    </tr>\n",
       "    <tr>\n",
       "      <th>2</th>\n",
       "      <td>3</td>\n",
       "      <td>85</td>\n",
       "      <td>7225.0</td>\n",
       "      <td>-118.623136</td>\n",
       "    </tr>\n",
       "    <tr>\n",
       "      <th>3</th>\n",
       "      <td>3</td>\n",
       "      <td>86</td>\n",
       "      <td>7396.0</td>\n",
       "      <td>-113.144895</td>\n",
       "    </tr>\n",
       "    <tr>\n",
       "      <th>4</th>\n",
       "      <td>3</td>\n",
       "      <td>87</td>\n",
       "      <td>7569.0</td>\n",
       "      <td>-107.535105</td>\n",
       "    </tr>\n",
       "    <tr>\n",
       "      <th>5</th>\n",
       "      <td>3</td>\n",
       "      <td>88</td>\n",
       "      <td>7744.0</td>\n",
       "      <td>-101.793766</td>\n",
       "    </tr>\n",
       "    <tr>\n",
       "      <th>...</th>\n",
       "      <td>...</td>\n",
       "      <td>...</td>\n",
       "      <td>...</td>\n",
       "      <td>...</td>\n",
       "    </tr>\n",
       "    <tr>\n",
       "      <th>245246</th>\n",
       "      <td>9818</td>\n",
       "      <td>297</td>\n",
       "      <td>88209.0</td>\n",
       "      <td>4341.082250</td>\n",
       "    </tr>\n",
       "    <tr>\n",
       "      <th>245247</th>\n",
       "      <td>9818</td>\n",
       "      <td>298</td>\n",
       "      <td>88804.0</td>\n",
       "      <td>4378.838298</td>\n",
       "    </tr>\n",
       "    <tr>\n",
       "      <th>245248</th>\n",
       "      <td>9818</td>\n",
       "      <td>299</td>\n",
       "      <td>89401.0</td>\n",
       "      <td>4416.753005</td>\n",
       "    </tr>\n",
       "    <tr>\n",
       "      <th>245249</th>\n",
       "      <td>9818</td>\n",
       "      <td>300</td>\n",
       "      <td>90000.0</td>\n",
       "      <td>4454.826369</td>\n",
       "    </tr>\n",
       "    <tr>\n",
       "      <th>245250</th>\n",
       "      <td>9818</td>\n",
       "      <td>301</td>\n",
       "      <td>90601.0</td>\n",
       "      <td>4493.058391</td>\n",
       "    </tr>\n",
       "  </tbody>\n",
       "</table>\n",
       "<p>245250 rows × 4 columns</p>\n",
       "</div>"
      ],
      "text/plain": [
       "          id  gadays  gadays_2          efw\n",
       "1          3      84    7056.0  -123.969829\n",
       "2          3      85    7225.0  -118.623136\n",
       "3          3      86    7396.0  -113.144895\n",
       "4          3      87    7569.0  -107.535105\n",
       "5          3      88    7744.0  -101.793766\n",
       "...      ...     ...       ...          ...\n",
       "245246  9818     297   88209.0  4341.082250\n",
       "245247  9818     298   88804.0  4378.838298\n",
       "245248  9818     299   89401.0  4416.753005\n",
       "245249  9818     300   90000.0  4454.826369\n",
       "245250  9818     301   90601.0  4493.058391\n",
       "\n",
       "[245250 rows x 4 columns]"
      ]
     },
     "execution_count": 18,
     "metadata": {},
     "output_type": "execute_result"
    }
   ],
   "source": [
    "augmented_data_quadratic_df_inserted"
   ]
  }
 ],
 "metadata": {
  "kernelspec": {
   "display_name": "Python 3.9.13 ('base')",
   "language": "python",
   "name": "python3"
  },
  "language_info": {
   "codemirror_mode": {
    "name": "ipython",
    "version": 3
   },
   "file_extension": ".py",
   "mimetype": "text/x-python",
   "name": "python",
   "nbconvert_exporter": "python",
   "pygments_lexer": "ipython3",
   "version": "3.10.8"
  },
  "orig_nbformat": 4,
  "vscode": {
   "interpreter": {
    "hash": "d4d1e4263499bec80672ea0156c357c1ee493ec2b1c70f0acce89fc37c4a6abe"
   }
  }
 },
 "nbformat": 4,
 "nbformat_minor": 2
}
