{
 "cells": [
  {
   "cell_type": "markdown",
   "metadata": {},
   "source": []
  },
  {
   "cell_type": "code",
   "execution_count": 3,
   "metadata": {},
   "outputs": [],
   "source": [
    "import numpy as np\n",
    "import pandas as pd\n"
   ]
  },
  {
   "cell_type": "code",
   "execution_count": 4,
   "metadata": {},
   "outputs": [],
   "source": [
    "raw_copy = pd.read_csv('/workspaces/test/raw_copy.csv',index_col=0)\n",
    "no_covariate_no_na_clean = pd.read_csv('/workspaces/test/no_covariate_no_na_clean.csv',index_col = 0)"
   ]
  },
  {
   "cell_type": "code",
   "execution_count": 240,
   "metadata": {},
   "outputs": [
    {
     "data": {
      "text/plain": [
       "count    1125.000000\n",
       "mean      121.443556\n",
       "std         8.175002\n",
       "min        84.000000\n",
       "25%       116.000000\n",
       "50%       122.000000\n",
       "75%       126.000000\n",
       "max       151.000000\n",
       "dtype: float64"
      ]
     },
     "execution_count": 240,
     "metadata": {},
     "output_type": "execute_result"
    }
   ],
   "source": [
    "gadays_17 = []\n",
    "for id in no_covariate_no_na_clean.id.unique():\n",
    "    gadays_1 = no_covariate_no_na_clean[no_covariate_no_na_clean.id == id].gadays.values[0]\n",
    "    gadays_17.append(gadays_1)\n",
    "\n",
    "pd.Series(gadays_17).describe()"
   ]
  },
  {
   "cell_type": "code",
   "execution_count": 241,
   "metadata": {},
   "outputs": [
    {
     "data": {
      "text/plain": [
       "count    1334.000000\n",
       "mean       71.503748\n",
       "std         2.706925\n",
       "min        52.000000\n",
       "25%        70.000000\n",
       "50%        72.000000\n",
       "75%        73.000000\n",
       "max        82.000000\n",
       "Name: FEMUR, dtype: float64"
      ]
     },
     "execution_count": 241,
     "metadata": {},
     "output_type": "execute_result"
    }
   ],
   "source": [
    "raw_copy[((raw_copy.gadays >= 247) & (raw_copy.gadays <= 276))].FEMUR.describe()"
   ]
  },
  {
   "cell_type": "code",
   "execution_count": 242,
   "metadata": {},
   "outputs": [
    {
     "data": {
      "text/plain": [
       "count    1125.000000\n",
       "mean      174.832000\n",
       "std         5.599572\n",
       "min       158.000000\n",
       "25%       171.000000\n",
       "50%       175.000000\n",
       "75%       178.000000\n",
       "max       228.000000\n",
       "dtype: float64"
      ]
     },
     "execution_count": 242,
     "metadata": {},
     "output_type": "execute_result"
    }
   ],
   "source": [
    "gadays_25 = []\n",
    "for id in no_covariate_no_na_clean.id.unique():\n",
    "    gadays_1 = no_covariate_no_na_clean[no_covariate_no_na_clean.id == id].gadays.values[1]\n",
    "    gadays_25.append(gadays_1)\n",
    "\n",
    "pd.Series(gadays_25).describe()"
   ]
  },
  {
   "cell_type": "code",
   "execution_count": 243,
   "metadata": {},
   "outputs": [
    {
     "data": {
      "text/plain": [
       "count    1125.000000\n",
       "mean      230.346667\n",
       "std         5.001494\n",
       "min       202.000000\n",
       "25%       227.000000\n",
       "50%       231.000000\n",
       "75%       233.000000\n",
       "max       246.000000\n",
       "dtype: float64"
      ]
     },
     "execution_count": 243,
     "metadata": {},
     "output_type": "execute_result"
    }
   ],
   "source": [
    "gadays_33 = []\n",
    "for id in no_covariate_no_na_clean.id.unique():\n",
    "    gadays_1 = no_covariate_no_na_clean[no_covariate_no_na_clean.id == id].gadays.values[2]\n",
    "    gadays_33.append(gadays_1)\n",
    "\n",
    "pd.Series(gadays_33).describe()"
   ]
  },
  {
   "cell_type": "code",
   "execution_count": 244,
   "metadata": {},
   "outputs": [
    {
     "data": {
      "text/plain": [
       "count    1125.000000\n",
       "mean      259.158222\n",
       "std         6.191045\n",
       "min       184.000000\n",
       "25%       256.000000\n",
       "50%       259.000000\n",
       "75%       262.000000\n",
       "max       276.000000\n",
       "dtype: float64"
      ]
     },
     "execution_count": 244,
     "metadata": {},
     "output_type": "execute_result"
    }
   ],
   "source": [
    "gadays_37 = []\n",
    "for id in no_covariate_no_na_clean.id.unique():\n",
    "    gadays_1 = no_covariate_no_na_clean[no_covariate_no_na_clean.id == id].gadays.values[3]\n",
    "    gadays_37.append(gadays_1)\n",
    "\n",
    "pd.Series(gadays_37).describe()"
   ]
  },
  {
   "cell_type": "code",
   "execution_count": 245,
   "metadata": {},
   "outputs": [],
   "source": [
    "no_covariate_no_na_clean.set_index('id',inplace=True)"
   ]
  },
  {
   "cell_type": "code",
   "execution_count": 246,
   "metadata": {},
   "outputs": [
    {
     "data": {
      "text/plain": [
       "9612"
      ]
     },
     "execution_count": 246,
     "metadata": {},
     "output_type": "execute_result"
    }
   ],
   "source": [
    "(no_covariate_no_na_clean[no_covariate_no_na_clean.gadays == 112].efw - 201.61).abs().idxmin()\n",
    "\n"
   ]
  },
  {
   "cell_type": "code",
   "execution_count": 247,
   "metadata": {},
   "outputs": [
    {
     "data": {
      "text/html": [
       "<div>\n",
       "<style scoped>\n",
       "    .dataframe tbody tr th:only-of-type {\n",
       "        vertical-align: middle;\n",
       "    }\n",
       "\n",
       "    .dataframe tbody tr th {\n",
       "        vertical-align: top;\n",
       "    }\n",
       "\n",
       "    .dataframe thead th {\n",
       "        text-align: right;\n",
       "    }\n",
       "</style>\n",
       "<table border=\"1\" class=\"dataframe\">\n",
       "  <thead>\n",
       "    <tr style=\"text-align: right;\">\n",
       "      <th></th>\n",
       "      <th>gadays</th>\n",
       "      <th>efw</th>\n",
       "    </tr>\n",
       "    <tr>\n",
       "      <th>id</th>\n",
       "      <th></th>\n",
       "      <th></th>\n",
       "    </tr>\n",
       "  </thead>\n",
       "  <tbody>\n",
       "    <tr>\n",
       "      <th>6591</th>\n",
       "      <td>112.0</td>\n",
       "      <td>157.734916</td>\n",
       "    </tr>\n",
       "    <tr>\n",
       "      <th>7080</th>\n",
       "      <td>112.0</td>\n",
       "      <td>162.337684</td>\n",
       "    </tr>\n",
       "    <tr>\n",
       "      <th>7127</th>\n",
       "      <td>112.0</td>\n",
       "      <td>162.518828</td>\n",
       "    </tr>\n",
       "    <tr>\n",
       "      <th>7736</th>\n",
       "      <td>112.0</td>\n",
       "      <td>137.032589</td>\n",
       "    </tr>\n",
       "    <tr>\n",
       "      <th>7749</th>\n",
       "      <td>112.0</td>\n",
       "      <td>140.751654</td>\n",
       "    </tr>\n",
       "    <tr>\n",
       "      <th>8166</th>\n",
       "      <td>112.0</td>\n",
       "      <td>149.102954</td>\n",
       "    </tr>\n",
       "    <tr>\n",
       "      <th>8787</th>\n",
       "      <td>112.0</td>\n",
       "      <td>153.529340</td>\n",
       "    </tr>\n",
       "    <tr>\n",
       "      <th>9363</th>\n",
       "      <td>112.0</td>\n",
       "      <td>153.529340</td>\n",
       "    </tr>\n",
       "    <tr>\n",
       "      <th>9469</th>\n",
       "      <td>112.0</td>\n",
       "      <td>153.776279</td>\n",
       "    </tr>\n",
       "    <tr>\n",
       "      <th>9612</th>\n",
       "      <td>112.0</td>\n",
       "      <td>167.074761</td>\n",
       "    </tr>\n",
       "  </tbody>\n",
       "</table>\n",
       "</div>"
      ],
      "text/plain": [
       "      gadays         efw\n",
       "id                      \n",
       "6591   112.0  157.734916\n",
       "7080   112.0  162.337684\n",
       "7127   112.0  162.518828\n",
       "7736   112.0  137.032589\n",
       "7749   112.0  140.751654\n",
       "8166   112.0  149.102954\n",
       "8787   112.0  153.529340\n",
       "9363   112.0  153.529340\n",
       "9469   112.0  153.776279\n",
       "9612   112.0  167.074761"
      ]
     },
     "execution_count": 247,
     "metadata": {},
     "output_type": "execute_result"
    }
   ],
   "source": [
    "no_covariate_no_na_clean[no_covariate_no_na_clean.gadays == 112]"
   ]
  },
  {
   "cell_type": "code",
   "execution_count": 248,
   "metadata": {},
   "outputs": [
    {
     "data": {
      "text/html": [
       "<div>\n",
       "<style scoped>\n",
       "    .dataframe tbody tr th:only-of-type {\n",
       "        vertical-align: middle;\n",
       "    }\n",
       "\n",
       "    .dataframe tbody tr th {\n",
       "        vertical-align: top;\n",
       "    }\n",
       "\n",
       "    .dataframe thead th {\n",
       "        text-align: right;\n",
       "    }\n",
       "</style>\n",
       "<table border=\"1\" class=\"dataframe\">\n",
       "  <thead>\n",
       "    <tr style=\"text-align: right;\">\n",
       "      <th></th>\n",
       "      <th>gadays</th>\n",
       "      <th>efw</th>\n",
       "    </tr>\n",
       "    <tr>\n",
       "      <th>id</th>\n",
       "      <th></th>\n",
       "      <th></th>\n",
       "    </tr>\n",
       "  </thead>\n",
       "  <tbody>\n",
       "    <tr>\n",
       "      <th>9612</th>\n",
       "      <td>112.0</td>\n",
       "      <td>167.074761</td>\n",
       "    </tr>\n",
       "    <tr>\n",
       "      <th>9612</th>\n",
       "      <td>169.0</td>\n",
       "      <td>745.586896</td>\n",
       "    </tr>\n",
       "    <tr>\n",
       "      <th>9612</th>\n",
       "      <td>231.0</td>\n",
       "      <td>2392.310514</td>\n",
       "    </tr>\n",
       "    <tr>\n",
       "      <th>9612</th>\n",
       "      <td>258.0</td>\n",
       "      <td>3098.120170</td>\n",
       "    </tr>\n",
       "    <tr>\n",
       "      <th>9612</th>\n",
       "      <td>286.0</td>\n",
       "      <td>4070.000000</td>\n",
       "    </tr>\n",
       "  </tbody>\n",
       "</table>\n",
       "</div>"
      ],
      "text/plain": [
       "      gadays          efw\n",
       "id                       \n",
       "9612   112.0   167.074761\n",
       "9612   169.0   745.586896\n",
       "9612   231.0  2392.310514\n",
       "9612   258.0  3098.120170\n",
       "9612   286.0  4070.000000"
      ]
     },
     "execution_count": 248,
     "metadata": {},
     "output_type": "execute_result"
    }
   ],
   "source": [
    "no_covariate_no_na_clean[no_covariate_no_na_clean.index == 9612]"
   ]
  },
  {
   "cell_type": "code",
   "execution_count": 249,
   "metadata": {},
   "outputs": [],
   "source": [
    "augmented_data_quadratic_df_ready = pd.read_csv(\"/workspaces/test/augmented_data_quadratic_df_ready.csv\",index_col=0)"
   ]
  },
  {
   "cell_type": "code",
   "execution_count": 250,
   "metadata": {},
   "outputs": [],
   "source": [
    "input_data = {\n",
    "    'gadays': [122,175,230,239],\n",
    "    'efw':[201,801,2193,3123]\n",
    "}\n",
    "input_data_df = pd.DataFrame(data = input_data)"
   ]
  },
  {
   "cell_type": "code",
   "execution_count": 251,
   "metadata": {},
   "outputs": [],
   "source": [
    "input_data_df_1 = input_data_df.transpose()\n",
    "input_data_df_1 = input_data_df_1.astype(\"float\")\n",
    "input_data_df_1 = input_data_df_1.rename(columns=input_data_df_1.iloc[0])\n",
    "input_data_df_1 = input_data_df_1.drop(input_data_df_1.index[0])"
   ]
  },
  {
   "cell_type": "code",
   "execution_count": 252,
   "metadata": {},
   "outputs": [
    {
     "name": "stdout",
     "output_type": "stream",
     "text": [
      "122\n",
      "175\n",
      "230\n",
      "239\n"
     ]
    }
   ],
   "source": [
    "df = pd.DataFrame()\n",
    "for gaday in input_data_df.gadays:\n",
    "    print(gaday)\n",
    "    df = pd.concat([df,augmented_data_quadratic_df_ready.loc[:,augmented_data_quadratic_df_ready.columns == str(float(gaday))]],axis =1)"
   ]
  },
  {
   "cell_type": "code",
   "execution_count": 253,
   "metadata": {},
   "outputs": [
    {
     "data": {
      "text/html": [
       "<div>\n",
       "<style scoped>\n",
       "    .dataframe tbody tr th:only-of-type {\n",
       "        vertical-align: middle;\n",
       "    }\n",
       "\n",
       "    .dataframe tbody tr th {\n",
       "        vertical-align: top;\n",
       "    }\n",
       "\n",
       "    .dataframe thead th {\n",
       "        text-align: right;\n",
       "    }\n",
       "</style>\n",
       "<table border=\"1\" class=\"dataframe\">\n",
       "  <thead>\n",
       "    <tr style=\"text-align: right;\">\n",
       "      <th></th>\n",
       "      <th>122.0</th>\n",
       "      <th>175.0</th>\n",
       "      <th>230.0</th>\n",
       "      <th>239.0</th>\n",
       "    </tr>\n",
       "  </thead>\n",
       "  <tbody>\n",
       "    <tr>\n",
       "      <th>3</th>\n",
       "      <td>171.550844</td>\n",
       "      <td>901.061171</td>\n",
       "      <td>2048.976915</td>\n",
       "      <td>2274.720871</td>\n",
       "    </tr>\n",
       "    <tr>\n",
       "      <th>5</th>\n",
       "      <td>178.127374</td>\n",
       "      <td>927.223474</td>\n",
       "      <td>2190.056677</td>\n",
       "      <td>2443.777923</td>\n",
       "    </tr>\n",
       "    <tr>\n",
       "      <th>6</th>\n",
       "      <td>190.535257</td>\n",
       "      <td>897.931898</td>\n",
       "      <td>2638.240915</td>\n",
       "      <td>2774.411191</td>\n",
       "    </tr>\n",
       "    <tr>\n",
       "      <th>7</th>\n",
       "      <td>158.243485</td>\n",
       "      <td>850.094810</td>\n",
       "      <td>1767.532280</td>\n",
       "      <td>1937.001786</td>\n",
       "    </tr>\n",
       "    <tr>\n",
       "      <th>38</th>\n",
       "      <td>176.854216</td>\n",
       "      <td>925.096719</td>\n",
       "      <td>2168.974105</td>\n",
       "      <td>2417.841247</td>\n",
       "    </tr>\n",
       "    <tr>\n",
       "      <th>...</th>\n",
       "      <td>...</td>\n",
       "      <td>...</td>\n",
       "      <td>...</td>\n",
       "      <td>...</td>\n",
       "    </tr>\n",
       "    <tr>\n",
       "      <th>9619</th>\n",
       "      <td>185.569427</td>\n",
       "      <td>872.991364</td>\n",
       "      <td>2354.362002</td>\n",
       "      <td>2640.248966</td>\n",
       "    </tr>\n",
       "    <tr>\n",
       "      <th>9691</th>\n",
       "      <td>165.355160</td>\n",
       "      <td>880.663579</td>\n",
       "      <td>1925.505439</td>\n",
       "      <td>2125.816839</td>\n",
       "    </tr>\n",
       "    <tr>\n",
       "      <th>9763</th>\n",
       "      <td>175.182741</td>\n",
       "      <td>916.974836</td>\n",
       "      <td>2129.842792</td>\n",
       "      <td>2371.277787</td>\n",
       "    </tr>\n",
       "    <tr>\n",
       "      <th>9811</th>\n",
       "      <td>181.089705</td>\n",
       "      <td>940.194889</td>\n",
       "      <td>2256.705911</td>\n",
       "      <td>2523.408720</td>\n",
       "    </tr>\n",
       "    <tr>\n",
       "      <th>9818</th>\n",
       "      <td>177.110282</td>\n",
       "      <td>925.223753</td>\n",
       "      <td>2172.826587</td>\n",
       "      <td>2422.677588</td>\n",
       "    </tr>\n",
       "  </tbody>\n",
       "</table>\n",
       "<p>1123 rows × 4 columns</p>\n",
       "</div>"
      ],
      "text/plain": [
       "           122.0       175.0        230.0        239.0\n",
       "3     171.550844  901.061171  2048.976915  2274.720871\n",
       "5     178.127374  927.223474  2190.056677  2443.777923\n",
       "6     190.535257  897.931898  2638.240915  2774.411191\n",
       "7     158.243485  850.094810  1767.532280  1937.001786\n",
       "38    176.854216  925.096719  2168.974105  2417.841247\n",
       "...          ...         ...          ...          ...\n",
       "9619  185.569427  872.991364  2354.362002  2640.248966\n",
       "9691  165.355160  880.663579  1925.505439  2125.816839\n",
       "9763  175.182741  916.974836  2129.842792  2371.277787\n",
       "9811  181.089705  940.194889  2256.705911  2523.408720\n",
       "9818  177.110282  925.223753  2172.826587  2422.677588\n",
       "\n",
       "[1123 rows x 4 columns]"
      ]
     },
     "execution_count": 253,
     "metadata": {},
     "output_type": "execute_result"
    }
   ],
   "source": [
    "df"
   ]
  },
  {
   "cell_type": "code",
   "execution_count": 258,
   "metadata": {},
   "outputs": [
    {
     "data": {
      "text/html": [
       "<div>\n",
       "<style scoped>\n",
       "    .dataframe tbody tr th:only-of-type {\n",
       "        vertical-align: middle;\n",
       "    }\n",
       "\n",
       "    .dataframe tbody tr th {\n",
       "        vertical-align: top;\n",
       "    }\n",
       "\n",
       "    .dataframe thead th {\n",
       "        text-align: right;\n",
       "    }\n",
       "</style>\n",
       "<table border=\"1\" class=\"dataframe\">\n",
       "  <thead>\n",
       "    <tr style=\"text-align: right;\">\n",
       "      <th></th>\n",
       "      <th>122.0</th>\n",
       "      <th>175.0</th>\n",
       "      <th>230.0</th>\n",
       "      <th>239.0</th>\n",
       "    </tr>\n",
       "  </thead>\n",
       "  <tbody>\n",
       "    <tr>\n",
       "      <th>efw</th>\n",
       "      <td>201.0</td>\n",
       "      <td>801.0</td>\n",
       "      <td>2193.0</td>\n",
       "      <td>3123.0</td>\n",
       "    </tr>\n",
       "  </tbody>\n",
       "</table>\n",
       "</div>"
      ],
      "text/plain": [
       "     122.0  175.0   230.0   239.0\n",
       "efw  201.0  801.0  2193.0  3123.0"
      ]
     },
     "execution_count": 258,
     "metadata": {},
     "output_type": "execute_result"
    }
   ],
   "source": [
    "input_data_df_1"
   ]
  },
  {
   "cell_type": "code",
   "execution_count": 271,
   "metadata": {},
   "outputs": [
    {
     "data": {
      "text/plain": [
       "1225"
      ]
     },
     "execution_count": 271,
     "metadata": {},
     "output_type": "execute_result"
    }
   ],
   "source": [
    "(df - input_data_df_1.values).abs().sum(axis = 1).idxmin()"
   ]
  },
  {
   "cell_type": "code",
   "execution_count": 273,
   "metadata": {},
   "outputs": [
    {
     "data": {
      "text/plain": [
       "count    1123.000000\n",
       "mean      999.247494\n",
       "std       216.817458\n",
       "min       595.129518\n",
       "25%       823.950589\n",
       "50%       934.644970\n",
       "75%      1130.143039\n",
       "max      1861.478597\n",
       "dtype: float64"
      ]
     },
     "execution_count": 273,
     "metadata": {},
     "output_type": "execute_result"
    }
   ],
   "source": [
    "(df - input_data_df_1.values).abs().sum(axis = 1).describe()"
   ]
  },
  {
   "cell_type": "code",
   "execution_count": 272,
   "metadata": {},
   "outputs": [
    {
     "data": {
      "text/html": [
       "<div>\n",
       "<style scoped>\n",
       "    .dataframe tbody tr th:only-of-type {\n",
       "        vertical-align: middle;\n",
       "    }\n",
       "\n",
       "    .dataframe tbody tr th {\n",
       "        vertical-align: top;\n",
       "    }\n",
       "\n",
       "    .dataframe thead th {\n",
       "        text-align: right;\n",
       "    }\n",
       "</style>\n",
       "<table border=\"1\" class=\"dataframe\">\n",
       "  <thead>\n",
       "    <tr style=\"text-align: right;\">\n",
       "      <th></th>\n",
       "      <th>122.0</th>\n",
       "      <th>175.0</th>\n",
       "      <th>230.0</th>\n",
       "      <th>239.0</th>\n",
       "    </tr>\n",
       "  </thead>\n",
       "  <tbody>\n",
       "    <tr>\n",
       "      <th>1225</th>\n",
       "      <td>178.087074</td>\n",
       "      <td>933.322175</td>\n",
       "      <td>2203.774467</td>\n",
       "      <td>2693.88005</td>\n",
       "    </tr>\n",
       "  </tbody>\n",
       "</table>\n",
       "</div>"
      ],
      "text/plain": [
       "           122.0       175.0        230.0       239.0\n",
       "1225  178.087074  933.322175  2203.774467  2693.88005"
      ]
     },
     "execution_count": 272,
     "metadata": {},
     "output_type": "execute_result"
    }
   ],
   "source": [
    "df[df.index == 1225]"
   ]
  },
  {
   "cell_type": "code",
   "execution_count": 280,
   "metadata": {},
   "outputs": [],
   "source": [
    "training_seq = augmented_data_quadratic_df_ready[augmented_data_quadratic_df_ready.index == 1225]"
   ]
  },
  {
   "cell_type": "code",
   "execution_count": 361,
   "metadata": {},
   "outputs": [
    {
     "data": {
      "text/plain": [
       "Float64Index([122.0, 175.0, 230.0, 239.0], dtype='float64')"
      ]
     },
     "execution_count": 361,
     "metadata": {},
     "output_type": "execute_result"
    }
   ],
   "source": [
    "input_data_df_1.transpose().index"
   ]
  },
  {
   "cell_type": "code",
   "execution_count": 363,
   "metadata": {},
   "outputs": [],
   "source": [
    "training_seq.transpose().index = training_seq.transpose().index.astype('float')"
   ]
  },
  {
   "cell_type": "code",
   "execution_count": 367,
   "metadata": {},
   "outputs": [
    {
     "name": "stderr",
     "output_type": "stream",
     "text": [
      "/tmp/ipykernel_1263/3053345974.py:1: SettingWithCopyWarning: \n",
      "A value is trying to be set on a copy of a slice from a DataFrame\n",
      "\n",
      "See the caveats in the documentation: https://pandas.pydata.org/pandas-docs/stable/user_guide/indexing.html#returning-a-view-versus-a-copy\n",
      "  training_seq.loc[:,training_seq.columns.astype('float').isin(input_data_df_1.columns)] = input_data_df_1.values\n"
     ]
    }
   ],
   "source": [
    "training_seq.loc[:,training_seq.columns.astype('float').isin(input_data_df_1.columns)] = input_data_df_1.values"
   ]
  },
  {
   "cell_type": "code",
   "execution_count": 377,
   "metadata": {},
   "outputs": [],
   "source": [
    "covariate_5_records = pd.read_csv(\"/workspaces/test/covariates_5_record.csv\",index_col=0)"
   ]
  },
  {
   "cell_type": "code",
   "execution_count": 378,
   "metadata": {},
   "outputs": [
    {
     "data": {
      "text/html": [
       "<div>\n",
       "<style scoped>\n",
       "    .dataframe tbody tr th:only-of-type {\n",
       "        vertical-align: middle;\n",
       "    }\n",
       "\n",
       "    .dataframe tbody tr th {\n",
       "        vertical-align: top;\n",
       "    }\n",
       "\n",
       "    .dataframe thead th {\n",
       "        text-align: right;\n",
       "    }\n",
       "</style>\n",
       "<table border=\"1\" class=\"dataframe\">\n",
       "  <thead>\n",
       "    <tr style=\"text-align: right;\">\n",
       "      <th></th>\n",
       "      <th>id</th>\n",
       "      <th>wt_before_preg</th>\n",
       "      <th>height</th>\n",
       "      <th>NoPrevPreg</th>\n",
       "      <th>hpb</th>\n",
       "      <th>cardiac</th>\n",
       "      <th>baseline_diabetes</th>\n",
       "      <th>renal</th>\n",
       "      <th>reg_smoke</th>\n",
       "    </tr>\n",
       "  </thead>\n",
       "  <tbody>\n",
       "    <tr>\n",
       "      <th>1</th>\n",
       "      <td>3</td>\n",
       "      <td>56.0</td>\n",
       "      <td>163.0</td>\n",
       "      <td>1.0</td>\n",
       "      <td>0.0</td>\n",
       "      <td>0.0</td>\n",
       "      <td>0.0</td>\n",
       "      <td>0.0</td>\n",
       "      <td>0.0</td>\n",
       "    </tr>\n",
       "    <tr>\n",
       "      <th>2</th>\n",
       "      <td>5</td>\n",
       "      <td>61.0</td>\n",
       "      <td>166.0</td>\n",
       "      <td>1.0</td>\n",
       "      <td>0.0</td>\n",
       "      <td>0.0</td>\n",
       "      <td>0.0</td>\n",
       "      <td>0.0</td>\n",
       "      <td>0.0</td>\n",
       "    </tr>\n",
       "    <tr>\n",
       "      <th>3</th>\n",
       "      <td>6</td>\n",
       "      <td>53.0</td>\n",
       "      <td>158.0</td>\n",
       "      <td>1.0</td>\n",
       "      <td>0.0</td>\n",
       "      <td>0.0</td>\n",
       "      <td>0.0</td>\n",
       "      <td>0.0</td>\n",
       "      <td>1.0</td>\n",
       "    </tr>\n",
       "    <tr>\n",
       "      <th>4</th>\n",
       "      <td>7</td>\n",
       "      <td>50.0</td>\n",
       "      <td>164.0</td>\n",
       "      <td>1.0</td>\n",
       "      <td>0.0</td>\n",
       "      <td>0.0</td>\n",
       "      <td>0.0</td>\n",
       "      <td>0.0</td>\n",
       "      <td>1.0</td>\n",
       "    </tr>\n",
       "    <tr>\n",
       "      <th>5</th>\n",
       "      <td>38</td>\n",
       "      <td>53.0</td>\n",
       "      <td>164.0</td>\n",
       "      <td>1.0</td>\n",
       "      <td>0.0</td>\n",
       "      <td>0.0</td>\n",
       "      <td>0.0</td>\n",
       "      <td>0.0</td>\n",
       "      <td>1.0</td>\n",
       "    </tr>\n",
       "    <tr>\n",
       "      <th>...</th>\n",
       "      <td>...</td>\n",
       "      <td>...</td>\n",
       "      <td>...</td>\n",
       "      <td>...</td>\n",
       "      <td>...</td>\n",
       "      <td>...</td>\n",
       "      <td>...</td>\n",
       "      <td>...</td>\n",
       "      <td>...</td>\n",
       "    </tr>\n",
       "    <tr>\n",
       "      <th>2038</th>\n",
       "      <td>9619</td>\n",
       "      <td>56.0</td>\n",
       "      <td>169.0</td>\n",
       "      <td>1.0</td>\n",
       "      <td>0.0</td>\n",
       "      <td>0.0</td>\n",
       "      <td>0.0</td>\n",
       "      <td>0.0</td>\n",
       "      <td>1.0</td>\n",
       "    </tr>\n",
       "    <tr>\n",
       "      <th>2047</th>\n",
       "      <td>9691</td>\n",
       "      <td>65.0</td>\n",
       "      <td>170.0</td>\n",
       "      <td>1.0</td>\n",
       "      <td>0.0</td>\n",
       "      <td>0.0</td>\n",
       "      <td>0.0</td>\n",
       "      <td>0.0</td>\n",
       "      <td>1.0</td>\n",
       "    </tr>\n",
       "    <tr>\n",
       "      <th>2059</th>\n",
       "      <td>9763</td>\n",
       "      <td>49.0</td>\n",
       "      <td>160.0</td>\n",
       "      <td>2.0</td>\n",
       "      <td>0.0</td>\n",
       "      <td>0.0</td>\n",
       "      <td>0.0</td>\n",
       "      <td>0.0</td>\n",
       "      <td>1.0</td>\n",
       "    </tr>\n",
       "    <tr>\n",
       "      <th>2062</th>\n",
       "      <td>9811</td>\n",
       "      <td>65.0</td>\n",
       "      <td>160.0</td>\n",
       "      <td>1.0</td>\n",
       "      <td>0.0</td>\n",
       "      <td>0.0</td>\n",
       "      <td>0.0</td>\n",
       "      <td>0.0</td>\n",
       "      <td>1.0</td>\n",
       "    </tr>\n",
       "    <tr>\n",
       "      <th>2064</th>\n",
       "      <td>9818</td>\n",
       "      <td>70.0</td>\n",
       "      <td>170.0</td>\n",
       "      <td>1.0</td>\n",
       "      <td>0.0</td>\n",
       "      <td>0.0</td>\n",
       "      <td>0.0</td>\n",
       "      <td>0.0</td>\n",
       "      <td>1.0</td>\n",
       "    </tr>\n",
       "  </tbody>\n",
       "</table>\n",
       "<p>1123 rows × 9 columns</p>\n",
       "</div>"
      ],
      "text/plain": [
       "        id  wt_before_preg  height  NoPrevPreg  hpb  cardiac  \\\n",
       "1        3            56.0   163.0         1.0  0.0      0.0   \n",
       "2        5            61.0   166.0         1.0  0.0      0.0   \n",
       "3        6            53.0   158.0         1.0  0.0      0.0   \n",
       "4        7            50.0   164.0         1.0  0.0      0.0   \n",
       "5       38            53.0   164.0         1.0  0.0      0.0   \n",
       "...    ...             ...     ...         ...  ...      ...   \n",
       "2038  9619            56.0   169.0         1.0  0.0      0.0   \n",
       "2047  9691            65.0   170.0         1.0  0.0      0.0   \n",
       "2059  9763            49.0   160.0         2.0  0.0      0.0   \n",
       "2062  9811            65.0   160.0         1.0  0.0      0.0   \n",
       "2064  9818            70.0   170.0         1.0  0.0      0.0   \n",
       "\n",
       "      baseline_diabetes  renal  reg_smoke  \n",
       "1                   0.0    0.0        0.0  \n",
       "2                   0.0    0.0        0.0  \n",
       "3                   0.0    0.0        1.0  \n",
       "4                   0.0    0.0        1.0  \n",
       "5                   0.0    0.0        1.0  \n",
       "...                 ...    ...        ...  \n",
       "2038                0.0    0.0        1.0  \n",
       "2047                0.0    0.0        1.0  \n",
       "2059                0.0    0.0        1.0  \n",
       "2062                0.0    0.0        1.0  \n",
       "2064                0.0    0.0        1.0  \n",
       "\n",
       "[1123 rows x 9 columns]"
      ]
     },
     "execution_count": 378,
     "metadata": {},
     "output_type": "execute_result"
    }
   ],
   "source": [
    "covariate_5_records"
   ]
  },
  {
   "cell_type": "code",
   "execution_count": null,
   "metadata": {},
   "outputs": [
    {
     "data": {
      "text/plain": [
       "4"
      ]
     },
     "metadata": {},
     "output_type": "display_data"
    }
   ],
   "source": [
    "sum(training_seq.columns.astype('float').isin(input_data_df_1.columns))"
   ]
  },
  {
   "cell_type": "code",
   "execution_count": 368,
   "metadata": {},
   "outputs": [
    {
     "data": {
      "text/html": [
       "<div>\n",
       "<style scoped>\n",
       "    .dataframe tbody tr th:only-of-type {\n",
       "        vertical-align: middle;\n",
       "    }\n",
       "\n",
       "    .dataframe tbody tr th {\n",
       "        vertical-align: top;\n",
       "    }\n",
       "\n",
       "    .dataframe thead th {\n",
       "        text-align: right;\n",
       "    }\n",
       "</style>\n",
       "<table border=\"1\" class=\"dataframe\">\n",
       "  <thead>\n",
       "    <tr style=\"text-align: right;\">\n",
       "      <th></th>\n",
       "      <th>122.0</th>\n",
       "      <th>175.0</th>\n",
       "      <th>230.0</th>\n",
       "      <th>239.0</th>\n",
       "    </tr>\n",
       "  </thead>\n",
       "  <tbody>\n",
       "    <tr>\n",
       "      <th>1225</th>\n",
       "      <td>201.0</td>\n",
       "      <td>801.0</td>\n",
       "      <td>2193.0</td>\n",
       "      <td>3123.0</td>\n",
       "    </tr>\n",
       "  </tbody>\n",
       "</table>\n",
       "</div>"
      ],
      "text/plain": [
       "      122.0  175.0   230.0   239.0\n",
       "1225  201.0  801.0  2193.0  3123.0"
      ]
     },
     "execution_count": 368,
     "metadata": {},
     "output_type": "execute_result"
    }
   ],
   "source": [
    "training_seq.loc[:,training_seq.columns.astype('float').isin(input_data_df_1.columns)]"
   ]
  },
  {
   "cell_type": "code",
   "execution_count": 370,
   "metadata": {},
   "outputs": [],
   "source": [
    "training_seq = training_seq.loc[:,:'301.0']"
   ]
  },
  {
   "cell_type": "code",
   "execution_count": 372,
   "metadata": {},
   "outputs": [],
   "source": [
    "y_days = 53\n",
    "y = training_seq.iloc[:,-y_days:]\n",
    "X = training_seq.drop(columns = y.columns)"
   ]
  },
  {
   "cell_type": "code",
   "execution_count": 374,
   "metadata": {},
   "outputs": [
    {
     "data": {
      "text/plain": [
       "(1, 165)"
      ]
     },
     "execution_count": 374,
     "metadata": {},
     "output_type": "execute_result"
    }
   ],
   "source": [
    "X.shape"
   ]
  },
  {
   "cell_type": "code",
   "execution_count": 379,
   "metadata": {},
   "outputs": [],
   "source": [
    "input_df_mom = pd.read_csv(\"/workspaces/test/input_df_mom.csv\",index_col=0)"
   ]
  },
  {
   "cell_type": "code",
   "execution_count": 385,
   "metadata": {},
   "outputs": [],
   "source": [
    "covariates_5_record = pd.read_csv(\"/workspaces/test/covariates_5_record.csv\",index_col=0)\n",
    "covariates_5_record = covariates_5_record.iloc[:,1:]"
   ]
  },
  {
   "cell_type": "code",
   "execution_count": 386,
   "metadata": {},
   "outputs": [
    {
     "data": {
      "text/html": [
       "<div>\n",
       "<style scoped>\n",
       "    .dataframe tbody tr th:only-of-type {\n",
       "        vertical-align: middle;\n",
       "    }\n",
       "\n",
       "    .dataframe tbody tr th {\n",
       "        vertical-align: top;\n",
       "    }\n",
       "\n",
       "    .dataframe thead th {\n",
       "        text-align: right;\n",
       "    }\n",
       "</style>\n",
       "<table border=\"1\" class=\"dataframe\">\n",
       "  <thead>\n",
       "    <tr style=\"text-align: right;\">\n",
       "      <th></th>\n",
       "      <th>wt_before_preg</th>\n",
       "      <th>height</th>\n",
       "      <th>NoPrevPreg</th>\n",
       "      <th>hpb</th>\n",
       "      <th>cardiac</th>\n",
       "      <th>baseline_diabetes</th>\n",
       "      <th>renal</th>\n",
       "      <th>reg_smoke</th>\n",
       "    </tr>\n",
       "  </thead>\n",
       "  <tbody>\n",
       "    <tr>\n",
       "      <th>1</th>\n",
       "      <td>56.0</td>\n",
       "      <td>163.0</td>\n",
       "      <td>1.0</td>\n",
       "      <td>0.0</td>\n",
       "      <td>0.0</td>\n",
       "      <td>0.0</td>\n",
       "      <td>0.0</td>\n",
       "      <td>0.0</td>\n",
       "    </tr>\n",
       "    <tr>\n",
       "      <th>2</th>\n",
       "      <td>61.0</td>\n",
       "      <td>166.0</td>\n",
       "      <td>1.0</td>\n",
       "      <td>0.0</td>\n",
       "      <td>0.0</td>\n",
       "      <td>0.0</td>\n",
       "      <td>0.0</td>\n",
       "      <td>0.0</td>\n",
       "    </tr>\n",
       "    <tr>\n",
       "      <th>3</th>\n",
       "      <td>53.0</td>\n",
       "      <td>158.0</td>\n",
       "      <td>1.0</td>\n",
       "      <td>0.0</td>\n",
       "      <td>0.0</td>\n",
       "      <td>0.0</td>\n",
       "      <td>0.0</td>\n",
       "      <td>1.0</td>\n",
       "    </tr>\n",
       "    <tr>\n",
       "      <th>4</th>\n",
       "      <td>50.0</td>\n",
       "      <td>164.0</td>\n",
       "      <td>1.0</td>\n",
       "      <td>0.0</td>\n",
       "      <td>0.0</td>\n",
       "      <td>0.0</td>\n",
       "      <td>0.0</td>\n",
       "      <td>1.0</td>\n",
       "    </tr>\n",
       "    <tr>\n",
       "      <th>5</th>\n",
       "      <td>53.0</td>\n",
       "      <td>164.0</td>\n",
       "      <td>1.0</td>\n",
       "      <td>0.0</td>\n",
       "      <td>0.0</td>\n",
       "      <td>0.0</td>\n",
       "      <td>0.0</td>\n",
       "      <td>1.0</td>\n",
       "    </tr>\n",
       "    <tr>\n",
       "      <th>...</th>\n",
       "      <td>...</td>\n",
       "      <td>...</td>\n",
       "      <td>...</td>\n",
       "      <td>...</td>\n",
       "      <td>...</td>\n",
       "      <td>...</td>\n",
       "      <td>...</td>\n",
       "      <td>...</td>\n",
       "    </tr>\n",
       "    <tr>\n",
       "      <th>2038</th>\n",
       "      <td>56.0</td>\n",
       "      <td>169.0</td>\n",
       "      <td>1.0</td>\n",
       "      <td>0.0</td>\n",
       "      <td>0.0</td>\n",
       "      <td>0.0</td>\n",
       "      <td>0.0</td>\n",
       "      <td>1.0</td>\n",
       "    </tr>\n",
       "    <tr>\n",
       "      <th>2047</th>\n",
       "      <td>65.0</td>\n",
       "      <td>170.0</td>\n",
       "      <td>1.0</td>\n",
       "      <td>0.0</td>\n",
       "      <td>0.0</td>\n",
       "      <td>0.0</td>\n",
       "      <td>0.0</td>\n",
       "      <td>1.0</td>\n",
       "    </tr>\n",
       "    <tr>\n",
       "      <th>2059</th>\n",
       "      <td>49.0</td>\n",
       "      <td>160.0</td>\n",
       "      <td>2.0</td>\n",
       "      <td>0.0</td>\n",
       "      <td>0.0</td>\n",
       "      <td>0.0</td>\n",
       "      <td>0.0</td>\n",
       "      <td>1.0</td>\n",
       "    </tr>\n",
       "    <tr>\n",
       "      <th>2062</th>\n",
       "      <td>65.0</td>\n",
       "      <td>160.0</td>\n",
       "      <td>1.0</td>\n",
       "      <td>0.0</td>\n",
       "      <td>0.0</td>\n",
       "      <td>0.0</td>\n",
       "      <td>0.0</td>\n",
       "      <td>1.0</td>\n",
       "    </tr>\n",
       "    <tr>\n",
       "      <th>2064</th>\n",
       "      <td>70.0</td>\n",
       "      <td>170.0</td>\n",
       "      <td>1.0</td>\n",
       "      <td>0.0</td>\n",
       "      <td>0.0</td>\n",
       "      <td>0.0</td>\n",
       "      <td>0.0</td>\n",
       "      <td>1.0</td>\n",
       "    </tr>\n",
       "  </tbody>\n",
       "</table>\n",
       "<p>1123 rows × 8 columns</p>\n",
       "</div>"
      ],
      "text/plain": [
       "      wt_before_preg  height  NoPrevPreg  hpb  cardiac  baseline_diabetes  \\\n",
       "1               56.0   163.0         1.0  0.0      0.0                0.0   \n",
       "2               61.0   166.0         1.0  0.0      0.0                0.0   \n",
       "3               53.0   158.0         1.0  0.0      0.0                0.0   \n",
       "4               50.0   164.0         1.0  0.0      0.0                0.0   \n",
       "5               53.0   164.0         1.0  0.0      0.0                0.0   \n",
       "...              ...     ...         ...  ...      ...                ...   \n",
       "2038            56.0   169.0         1.0  0.0      0.0                0.0   \n",
       "2047            65.0   170.0         1.0  0.0      0.0                0.0   \n",
       "2059            49.0   160.0         2.0  0.0      0.0                0.0   \n",
       "2062            65.0   160.0         1.0  0.0      0.0                0.0   \n",
       "2064            70.0   170.0         1.0  0.0      0.0                0.0   \n",
       "\n",
       "      renal  reg_smoke  \n",
       "1       0.0        0.0  \n",
       "2       0.0        0.0  \n",
       "3       0.0        1.0  \n",
       "4       0.0        1.0  \n",
       "5       0.0        1.0  \n",
       "...     ...        ...  \n",
       "2038    0.0        1.0  \n",
       "2047    0.0        1.0  \n",
       "2059    0.0        1.0  \n",
       "2062    0.0        1.0  \n",
       "2064    0.0        1.0  \n",
       "\n",
       "[1123 rows x 8 columns]"
      ]
     },
     "execution_count": 386,
     "metadata": {},
     "output_type": "execute_result"
    }
   ],
   "source": [
    "covariates_5_record"
   ]
  },
  {
   "cell_type": "code",
   "execution_count": 387,
   "metadata": {},
   "outputs": [
    {
     "data": {
      "text/html": [
       "<div>\n",
       "<style scoped>\n",
       "    .dataframe tbody tr th:only-of-type {\n",
       "        vertical-align: middle;\n",
       "    }\n",
       "\n",
       "    .dataframe tbody tr th {\n",
       "        vertical-align: top;\n",
       "    }\n",
       "\n",
       "    .dataframe thead th {\n",
       "        text-align: right;\n",
       "    }\n",
       "</style>\n",
       "<table border=\"1\" class=\"dataframe\">\n",
       "  <thead>\n",
       "    <tr style=\"text-align: right;\">\n",
       "      <th></th>\n",
       "      <th>wt_before_preg</th>\n",
       "      <th>height</th>\n",
       "      <th>NoPrevPreg</th>\n",
       "      <th>hpb</th>\n",
       "      <th>cardiac</th>\n",
       "      <th>baseline_diabetes</th>\n",
       "      <th>renal</th>\n",
       "      <th>reg_smoke</th>\n",
       "    </tr>\n",
       "  </thead>\n",
       "  <tbody>\n",
       "    <tr>\n",
       "      <th>1</th>\n",
       "      <td>56.00</td>\n",
       "      <td>163.00</td>\n",
       "      <td>1.0</td>\n",
       "      <td>0.0</td>\n",
       "      <td>0.0</td>\n",
       "      <td>0.0</td>\n",
       "      <td>0.0</td>\n",
       "      <td>0.0</td>\n",
       "    </tr>\n",
       "    <tr>\n",
       "      <th>2</th>\n",
       "      <td>61.00</td>\n",
       "      <td>166.00</td>\n",
       "      <td>1.0</td>\n",
       "      <td>0.0</td>\n",
       "      <td>0.0</td>\n",
       "      <td>0.0</td>\n",
       "      <td>0.0</td>\n",
       "      <td>0.0</td>\n",
       "    </tr>\n",
       "    <tr>\n",
       "      <th>3</th>\n",
       "      <td>53.00</td>\n",
       "      <td>158.00</td>\n",
       "      <td>1.0</td>\n",
       "      <td>0.0</td>\n",
       "      <td>0.0</td>\n",
       "      <td>0.0</td>\n",
       "      <td>0.0</td>\n",
       "      <td>1.0</td>\n",
       "    </tr>\n",
       "    <tr>\n",
       "      <th>4</th>\n",
       "      <td>50.00</td>\n",
       "      <td>164.00</td>\n",
       "      <td>1.0</td>\n",
       "      <td>0.0</td>\n",
       "      <td>0.0</td>\n",
       "      <td>0.0</td>\n",
       "      <td>0.0</td>\n",
       "      <td>1.0</td>\n",
       "    </tr>\n",
       "    <tr>\n",
       "      <th>5</th>\n",
       "      <td>53.00</td>\n",
       "      <td>164.00</td>\n",
       "      <td>1.0</td>\n",
       "      <td>0.0</td>\n",
       "      <td>0.0</td>\n",
       "      <td>0.0</td>\n",
       "      <td>0.0</td>\n",
       "      <td>1.0</td>\n",
       "    </tr>\n",
       "    <tr>\n",
       "      <th>...</th>\n",
       "      <td>...</td>\n",
       "      <td>...</td>\n",
       "      <td>...</td>\n",
       "      <td>...</td>\n",
       "      <td>...</td>\n",
       "      <td>...</td>\n",
       "      <td>...</td>\n",
       "      <td>...</td>\n",
       "    </tr>\n",
       "    <tr>\n",
       "      <th>2047</th>\n",
       "      <td>65.00</td>\n",
       "      <td>170.00</td>\n",
       "      <td>1.0</td>\n",
       "      <td>0.0</td>\n",
       "      <td>0.0</td>\n",
       "      <td>0.0</td>\n",
       "      <td>0.0</td>\n",
       "      <td>1.0</td>\n",
       "    </tr>\n",
       "    <tr>\n",
       "      <th>2059</th>\n",
       "      <td>49.00</td>\n",
       "      <td>160.00</td>\n",
       "      <td>2.0</td>\n",
       "      <td>0.0</td>\n",
       "      <td>0.0</td>\n",
       "      <td>0.0</td>\n",
       "      <td>0.0</td>\n",
       "      <td>1.0</td>\n",
       "    </tr>\n",
       "    <tr>\n",
       "      <th>2062</th>\n",
       "      <td>65.00</td>\n",
       "      <td>160.00</td>\n",
       "      <td>1.0</td>\n",
       "      <td>0.0</td>\n",
       "      <td>0.0</td>\n",
       "      <td>0.0</td>\n",
       "      <td>0.0</td>\n",
       "      <td>1.0</td>\n",
       "    </tr>\n",
       "    <tr>\n",
       "      <th>2064</th>\n",
       "      <td>70.00</td>\n",
       "      <td>170.00</td>\n",
       "      <td>1.0</td>\n",
       "      <td>0.0</td>\n",
       "      <td>0.0</td>\n",
       "      <td>0.0</td>\n",
       "      <td>0.0</td>\n",
       "      <td>1.0</td>\n",
       "    </tr>\n",
       "    <tr>\n",
       "      <th>0</th>\n",
       "      <td>59.18</td>\n",
       "      <td>165.95</td>\n",
       "      <td>1.0</td>\n",
       "      <td>1.0</td>\n",
       "      <td>1.0</td>\n",
       "      <td>1.0</td>\n",
       "      <td>1.0</td>\n",
       "      <td>1.0</td>\n",
       "    </tr>\n",
       "  </tbody>\n",
       "</table>\n",
       "<p>1124 rows × 8 columns</p>\n",
       "</div>"
      ],
      "text/plain": [
       "      wt_before_preg  height  NoPrevPreg  hpb  cardiac  baseline_diabetes  \\\n",
       "1              56.00  163.00         1.0  0.0      0.0                0.0   \n",
       "2              61.00  166.00         1.0  0.0      0.0                0.0   \n",
       "3              53.00  158.00         1.0  0.0      0.0                0.0   \n",
       "4              50.00  164.00         1.0  0.0      0.0                0.0   \n",
       "5              53.00  164.00         1.0  0.0      0.0                0.0   \n",
       "...              ...     ...         ...  ...      ...                ...   \n",
       "2047           65.00  170.00         1.0  0.0      0.0                0.0   \n",
       "2059           49.00  160.00         2.0  0.0      0.0                0.0   \n",
       "2062           65.00  160.00         1.0  0.0      0.0                0.0   \n",
       "2064           70.00  170.00         1.0  0.0      0.0                0.0   \n",
       "0              59.18  165.95         1.0  1.0      1.0                1.0   \n",
       "\n",
       "      renal  reg_smoke  \n",
       "1       0.0        0.0  \n",
       "2       0.0        0.0  \n",
       "3       0.0        1.0  \n",
       "4       0.0        1.0  \n",
       "5       0.0        1.0  \n",
       "...     ...        ...  \n",
       "2047    0.0        1.0  \n",
       "2059    0.0        1.0  \n",
       "2062    0.0        1.0  \n",
       "2064    0.0        1.0  \n",
       "0       1.0        1.0  \n",
       "\n",
       "[1124 rows x 8 columns]"
      ]
     },
     "execution_count": 387,
     "metadata": {},
     "output_type": "execute_result"
    }
   ],
   "source": [
    "pd.concat([covariates_5_record,input_df_mom],axis = 0)"
   ]
  },
  {
   "cell_type": "code",
   "execution_count": 389,
   "metadata": {},
   "outputs": [
    {
     "name": "stderr",
     "output_type": "stream",
     "text": [
      "2022-12-12 19:42:50.882052: I tensorflow/core/platform/cpu_feature_guard.cc:193] This TensorFlow binary is optimized with oneAPI Deep Neural Network Library (oneDNN) to use the following CPU instructions in performance-critical operations:  AVX2 FMA\n",
      "To enable them in other operations, rebuild TensorFlow with the appropriate compiler flags.\n",
      "2022-12-12 19:42:53.461989: W tensorflow/compiler/xla/stream_executor/platform/default/dso_loader.cc:64] Could not load dynamic library 'libnvinfer.so.7'; dlerror: libnvinfer.so.7: cannot open shared object file: No such file or directory\n",
      "2022-12-12 19:42:53.462199: W tensorflow/compiler/xla/stream_executor/platform/default/dso_loader.cc:64] Could not load dynamic library 'libnvinfer_plugin.so.7'; dlerror: libnvinfer_plugin.so.7: cannot open shared object file: No such file or directory\n",
      "2022-12-12 19:42:53.462208: W tensorflow/compiler/tf2tensorrt/utils/py_utils.cc:38] TF-TRT Warning: Cannot dlopen some TensorRT libraries. If you would like to use Nvidia GPU with TensorRT, please make sure the missing libraries mentioned above are installed properly.\n"
     ]
    }
   ],
   "source": [
    "from keras.models import load_model"
   ]
  },
  {
   "cell_type": "code",
   "execution_count": 390,
   "metadata": {},
   "outputs": [
    {
     "name": "stderr",
     "output_type": "stream",
     "text": [
      "2022-12-12 19:42:56.227711: E tensorflow/compiler/xla/stream_executor/cuda/cuda_driver.cc:267] failed call to cuInit: CUDA_ERROR_NO_DEVICE: no CUDA-capable device is detected\n",
      "2022-12-12 19:42:56.227792: I tensorflow/compiler/xla/stream_executor/cuda/cuda_diagnostics.cc:156] kernel driver does not appear to be running on this host (2c7e350c27ba): /proc/driver/nvidia/version does not exist\n",
      "2022-12-12 19:42:56.228173: I tensorflow/core/platform/cpu_feature_guard.cc:193] This TensorFlow binary is optimized with oneAPI Deep Neural Network Library (oneDNN) to use the following CPU instructions in performance-critical operations:  AVX2 FMA\n",
      "To enable them in other operations, rebuild TensorFlow with the appropriate compiler flags.\n"
     ]
    },
    {
     "name": "stdout",
     "output_type": "stream",
     "text": [
      "Model: \"model_23\"\n",
      "__________________________________________________________________________________________________\n",
      " Layer (type)                   Output Shape         Param #     Connected to                     \n",
      "==================================================================================================\n",
      " input_47 (InputLayer)          [(None, 165, 1)]     0           []                               \n",
      "                                                                                                  \n",
      " lstm_10 (LSTM)                 (None, 128)          66560       ['input_47[0][0]']               \n",
      "                                                                                                  \n",
      " input_48 (InputLayer)          [(None, 8)]          0           []                               \n",
      "                                                                                                  \n",
      " concatenate_23 (Concatenate)   (None, 136)          0           ['lstm_10[0][0]',                \n",
      "                                                                  'input_48[0][0]']               \n",
      "                                                                                                  \n",
      " dense_23 (Dense)               (None, 53)           7261        ['concatenate_23[0][0]']         \n",
      "                                                                                                  \n",
      "==================================================================================================\n",
      "Total params: 73,821\n",
      "Trainable params: 73,821\n",
      "Non-trainable params: 0\n",
      "__________________________________________________________________________________________________\n"
     ]
    }
   ],
   "source": [
    "model_qua_lstm_std = load_model(\"/workspaces/test/model_qua_lstm_std_75.h5\")\n",
    "model_qua_lstm_std.summary()"
   ]
  },
  {
   "cell_type": "code",
   "execution_count": 403,
   "metadata": {},
   "outputs": [],
   "source": [
    "X_scaled_df = pd.read_csv(\"/workspaces/test/X_scaled.csv\",index_col=0)\n",
    "input_df_mom_standardized = pd.read_csv(\"/workspaces/test/input_df_mom_standardized.csv\",index_col=0)\n",
    "input_df_mom_standardized = input_df_mom_standardized.transpose()"
   ]
  },
  {
   "cell_type": "code",
   "execution_count": 404,
   "metadata": {},
   "outputs": [
    {
     "data": {
      "text/html": [
       "<div>\n",
       "<style scoped>\n",
       "    .dataframe tbody tr th:only-of-type {\n",
       "        vertical-align: middle;\n",
       "    }\n",
       "\n",
       "    .dataframe tbody tr th {\n",
       "        vertical-align: top;\n",
       "    }\n",
       "\n",
       "    .dataframe thead th {\n",
       "        text-align: right;\n",
       "    }\n",
       "</style>\n",
       "<table border=\"1\" class=\"dataframe\">\n",
       "  <thead>\n",
       "    <tr style=\"text-align: right;\">\n",
       "      <th></th>\n",
       "      <th>wt_before_preg</th>\n",
       "      <th>height</th>\n",
       "      <th>NoPrevPreg</th>\n",
       "      <th>hpb</th>\n",
       "      <th>cardiac</th>\n",
       "      <th>baseline_diabetes</th>\n",
       "      <th>renal</th>\n",
       "      <th>reg_smoke</th>\n",
       "    </tr>\n",
       "  </thead>\n",
       "  <tbody>\n",
       "    <tr>\n",
       "      <th>0</th>\n",
       "      <td>-0.000052</td>\n",
       "      <td>-0.000292</td>\n",
       "      <td>1.0</td>\n",
       "      <td>1.0</td>\n",
       "      <td>1.0</td>\n",
       "      <td>1.0</td>\n",
       "      <td>1.0</td>\n",
       "      <td>1.0</td>\n",
       "    </tr>\n",
       "  </tbody>\n",
       "</table>\n",
       "</div>"
      ],
      "text/plain": [
       "   wt_before_preg    height  NoPrevPreg  hpb  cardiac  baseline_diabetes  \\\n",
       "0       -0.000052 -0.000292         1.0  1.0      1.0                1.0   \n",
       "\n",
       "   renal  reg_smoke  \n",
       "0    1.0        1.0  "
      ]
     },
     "execution_count": 404,
     "metadata": {},
     "output_type": "execute_result"
    }
   ],
   "source": [
    "input_df_mom_standardized"
   ]
  },
  {
   "cell_type": "code",
   "execution_count": 407,
   "metadata": {},
   "outputs": [],
   "source": [
    "X_scaled_pred = X_scaled_df.iloc[-1,:]\n",
    "X_scaled_pred = np.array(X_scaled_pred).reshape(X_scaled_pred.shape[0],1)\n",
    "X_scaled_pred = X_scaled_pred.reshape(1,X_scaled_pred.shape[0],1)"
   ]
  },
  {
   "cell_type": "code",
   "execution_count": 410,
   "metadata": {},
   "outputs": [
    {
     "data": {
      "text/plain": [
       "((1, 165, 1), (1, 8))"
      ]
     },
     "execution_count": 410,
     "metadata": {},
     "output_type": "execute_result"
    }
   ],
   "source": [
    "X_scaled_pred.shape, input_df_mom_standardized.shape"
   ]
  },
  {
   "cell_type": "code",
   "execution_count": 411,
   "metadata": {},
   "outputs": [
    {
     "name": "stdout",
     "output_type": "stream",
     "text": [
      "1/1 [==============================] - 0s 371ms/step\n"
     ]
    }
   ],
   "source": [
    "model_qua_lstm_std = load_model(\"/workspaces/test/model_qua_lstm_std_75.h5\")\n",
    "\n",
    "pred_y = model_qua_lstm_std.predict([X_scaled_pred,input_df_mom_standardized])\n"
   ]
  },
  {
   "cell_type": "code",
   "execution_count": 413,
   "metadata": {},
   "outputs": [
    {
     "data": {
      "text/plain": [
       "(1, 53)"
      ]
     },
     "execution_count": 413,
     "metadata": {},
     "output_type": "execute_result"
    }
   ],
   "source": [
    "pred_y.shape"
   ]
  },
  {
   "cell_type": "code",
   "execution_count": 414,
   "metadata": {},
   "outputs": [],
   "source": [
    "y = augmented_data_quadratic_df_ready.iloc[:,-y_days:]\n",
    "X = augmented_data_quadratic_df_ready.drop(columns = y.columns)"
   ]
  },
  {
   "cell_type": "code",
   "execution_count": 416,
   "metadata": {},
   "outputs": [],
   "source": [
    "df_90th_10th = pd.read_csv(\"/workspaces/test/df_90th_10th.csv\",index_col=0)\n",
    "raw_copy_5_record = pd.read_csv(\"/workspaces/test/raw_copy_5_record.csv\",index_col=0)"
   ]
  },
  {
   "cell_type": "code",
   "execution_count": 11,
   "metadata": {},
   "outputs": [],
   "source": [
    "true_pred_df = pd.read_csv(\"/workspaces/test/true_pred_df.csv\",index_col=0)\n",
    "df_90th_10th = pd.read_csv(\"/workspaces/test/df_90th_10th.csv\",index_col=0)\n",
    "raw_copy_5_record = pd.read_csv(\"/workspaces/test/raw_copy_5_record.csv\",index_col=0)"
   ]
  },
  {
   "cell_type": "code",
   "execution_count": 2,
   "metadata": {},
   "outputs": [],
   "source": [
    "from pre_process import *"
   ]
  },
  {
   "cell_type": "code",
   "execution_count": 7,
   "metadata": {},
   "outputs": [
    {
     "data": {
      "text/html": [
       "<div>\n",
       "<style scoped>\n",
       "    .dataframe tbody tr th:only-of-type {\n",
       "        vertical-align: middle;\n",
       "    }\n",
       "\n",
       "    .dataframe tbody tr th {\n",
       "        vertical-align: top;\n",
       "    }\n",
       "\n",
       "    .dataframe thead th {\n",
       "        text-align: right;\n",
       "    }\n",
       "</style>\n",
       "<table border=\"1\" class=\"dataframe\">\n",
       "  <thead>\n",
       "    <tr style=\"text-align: right;\">\n",
       "      <th></th>\n",
       "      <th>249.0</th>\n",
       "      <th>250.0</th>\n",
       "      <th>251.0</th>\n",
       "      <th>252.0</th>\n",
       "      <th>253.0</th>\n",
       "      <th>254.0</th>\n",
       "      <th>255.0</th>\n",
       "      <th>256.0</th>\n",
       "      <th>257.0</th>\n",
       "      <th>258.0</th>\n",
       "      <th>...</th>\n",
       "      <th>292.0</th>\n",
       "      <th>293.0</th>\n",
       "      <th>294.0</th>\n",
       "      <th>295.0</th>\n",
       "      <th>296.0</th>\n",
       "      <th>297.0</th>\n",
       "      <th>298.0</th>\n",
       "      <th>299.0</th>\n",
       "      <th>300.0</th>\n",
       "      <th>301.0</th>\n",
       "    </tr>\n",
       "  </thead>\n",
       "  <tbody>\n",
       "    <tr>\n",
       "      <th>0</th>\n",
       "      <td>False</td>\n",
       "      <td>False</td>\n",
       "      <td>False</td>\n",
       "      <td>False</td>\n",
       "      <td>False</td>\n",
       "      <td>False</td>\n",
       "      <td>False</td>\n",
       "      <td>False</td>\n",
       "      <td>False</td>\n",
       "      <td>False</td>\n",
       "      <td>...</td>\n",
       "      <td>True</td>\n",
       "      <td>True</td>\n",
       "      <td>True</td>\n",
       "      <td>True</td>\n",
       "      <td>True</td>\n",
       "      <td>True</td>\n",
       "      <td>True</td>\n",
       "      <td>True</td>\n",
       "      <td>True</td>\n",
       "      <td>True</td>\n",
       "    </tr>\n",
       "  </tbody>\n",
       "</table>\n",
       "<p>1 rows × 53 columns</p>\n",
       "</div>"
      ],
      "text/plain": [
       "   249.0  250.0  251.0  252.0  253.0  254.0  255.0  256.0  257.0  258.0  ...  \\\n",
       "0  False  False  False  False  False  False  False  False  False  False  ...   \n",
       "\n",
       "   292.0  293.0  294.0  295.0  296.0  297.0  298.0  299.0  300.0  301.0  \n",
       "0   True   True   True   True   True   True   True   True   True   True  \n",
       "\n",
       "[1 rows x 53 columns]"
      ]
     },
     "execution_count": 7,
     "metadata": {},
     "output_type": "execute_result"
    }
   ],
   "source": [
    "is_macro(true_pred_df)"
   ]
  },
  {
   "cell_type": "code",
   "execution_count": 15,
   "metadata": {},
   "outputs": [
    {
     "data": {
      "text/plain": [
       "Float64Index([249.0, 250.0, 251.0, 252.0, 253.0, 254.0, 255.0, 256.0, 257.0,\n",
       "              258.0, 259.0, 260.0, 261.0, 262.0, 263.0, 264.0, 265.0, 266.0,\n",
       "              267.0, 268.0, 269.0, 270.0, 271.0, 272.0, 273.0, 274.0, 275.0,\n",
       "              276.0, 277.0, 278.0, 279.0, 280.0, 281.0, 282.0, 283.0, 284.0,\n",
       "              285.0, 286.0, 287.0, 288.0, 289.0, 290.0, 291.0, 292.0, 293.0,\n",
       "              294.0, 295.0, 296.0, 297.0, 298.0, 299.0, 300.0, 301.0],\n",
       "             dtype='float64')"
      ]
     },
     "execution_count": 15,
     "metadata": {},
     "output_type": "execute_result"
    }
   ],
   "source": [
    "true_pred_df.columns.astype('float')"
   ]
  },
  {
   "cell_type": "code",
   "execution_count": 16,
   "metadata": {},
   "outputs": [
    {
     "data": {
      "text/html": [
       "<div>\n",
       "<style scoped>\n",
       "    .dataframe tbody tr th:only-of-type {\n",
       "        vertical-align: middle;\n",
       "    }\n",
       "\n",
       "    .dataframe tbody tr th {\n",
       "        vertical-align: top;\n",
       "    }\n",
       "\n",
       "    .dataframe thead th {\n",
       "        text-align: right;\n",
       "    }\n",
       "</style>\n",
       "<table border=\"1\" class=\"dataframe\">\n",
       "  <thead>\n",
       "    <tr style=\"text-align: right;\">\n",
       "      <th></th>\n",
       "      <th>gadays</th>\n",
       "      <th>90th percentile BW</th>\n",
       "      <th>10th percentile BW</th>\n",
       "    </tr>\n",
       "  </thead>\n",
       "  <tbody>\n",
       "    <tr>\n",
       "      <th>0</th>\n",
       "      <td>70.0</td>\n",
       "      <td>41.000000</td>\n",
       "      <td>29.000000</td>\n",
       "    </tr>\n",
       "    <tr>\n",
       "      <th>1</th>\n",
       "      <td>71.0</td>\n",
       "      <td>42.406170</td>\n",
       "      <td>29.901906</td>\n",
       "    </tr>\n",
       "    <tr>\n",
       "      <th>2</th>\n",
       "      <td>72.0</td>\n",
       "      <td>43.930999</td>\n",
       "      <td>30.891472</td>\n",
       "    </tr>\n",
       "    <tr>\n",
       "      <th>3</th>\n",
       "      <td>73.0</td>\n",
       "      <td>45.564915</td>\n",
       "      <td>31.964293</td>\n",
       "    </tr>\n",
       "    <tr>\n",
       "      <th>4</th>\n",
       "      <td>74.0</td>\n",
       "      <td>47.298346</td>\n",
       "      <td>33.115962</td>\n",
       "    </tr>\n",
       "    <tr>\n",
       "      <th>...</th>\n",
       "      <td>...</td>\n",
       "      <td>...</td>\n",
       "      <td>...</td>\n",
       "    </tr>\n",
       "    <tr>\n",
       "      <th>246</th>\n",
       "      <td>316.0</td>\n",
       "      <td>4667.982401</td>\n",
       "      <td>3444.602679</td>\n",
       "    </tr>\n",
       "    <tr>\n",
       "      <th>247</th>\n",
       "      <td>317.0</td>\n",
       "      <td>4655.833334</td>\n",
       "      <td>3445.269498</td>\n",
       "    </tr>\n",
       "    <tr>\n",
       "      <th>248</th>\n",
       "      <td>318.0</td>\n",
       "      <td>4641.995538</td>\n",
       "      <td>3445.156926</td>\n",
       "    </tr>\n",
       "    <tr>\n",
       "      <th>249</th>\n",
       "      <td>319.0</td>\n",
       "      <td>4626.438981</td>\n",
       "      <td>3444.252817</td>\n",
       "    </tr>\n",
       "    <tr>\n",
       "      <th>250</th>\n",
       "      <td>320.0</td>\n",
       "      <td>4609.133632</td>\n",
       "      <td>3442.545023</td>\n",
       "    </tr>\n",
       "  </tbody>\n",
       "</table>\n",
       "<p>251 rows × 3 columns</p>\n",
       "</div>"
      ],
      "text/plain": [
       "     gadays  90th percentile BW  10th percentile BW\n",
       "0      70.0           41.000000           29.000000\n",
       "1      71.0           42.406170           29.901906\n",
       "2      72.0           43.930999           30.891472\n",
       "3      73.0           45.564915           31.964293\n",
       "4      74.0           47.298346           33.115962\n",
       "..      ...                 ...                 ...\n",
       "246   316.0         4667.982401         3444.602679\n",
       "247   317.0         4655.833334         3445.269498\n",
       "248   318.0         4641.995538         3445.156926\n",
       "249   319.0         4626.438981         3444.252817\n",
       "250   320.0         4609.133632         3442.545023\n",
       "\n",
       "[251 rows x 3 columns]"
      ]
     },
     "execution_count": 16,
     "metadata": {},
     "output_type": "execute_result"
    }
   ],
   "source": [
    "df_90th_10th"
   ]
  },
  {
   "cell_type": "code",
   "execution_count": 25,
   "metadata": {},
   "outputs": [],
   "source": [
    "lga_limit = df_90th_10th.loc[((df_90th_10th[\"gadays\"]>=249.0) & (df_90th_10th[\"gadays\"]<=301.0)),\"90th percentile BW\"]"
   ]
  },
  {
   "cell_type": "code",
   "execution_count": 35,
   "metadata": {},
   "outputs": [
    {
     "data": {
      "text/plain": [
       "301.0"
      ]
     },
     "execution_count": 35,
     "metadata": {},
     "output_type": "execute_result"
    }
   ],
   "source": [
    "float(true_pred_df.columns[-1])"
   ]
  },
  {
   "cell_type": "code",
   "execution_count": 36,
   "metadata": {},
   "outputs": [],
   "source": [
    "lga_result = true_pred_df > np.array(lga_limit).reshape(1,53)"
   ]
  },
  {
   "cell_type": "code",
   "execution_count": 40,
   "metadata": {},
   "outputs": [],
   "source": [
    "lga_result.loc[0] = lga_result.loc[0].map({True: \"Yes\", False: \"No\"})"
   ]
  },
  {
   "cell_type": "code",
   "execution_count": 41,
   "metadata": {},
   "outputs": [
    {
     "data": {
      "text/html": [
       "<div>\n",
       "<style scoped>\n",
       "    .dataframe tbody tr th:only-of-type {\n",
       "        vertical-align: middle;\n",
       "    }\n",
       "\n",
       "    .dataframe tbody tr th {\n",
       "        vertical-align: top;\n",
       "    }\n",
       "\n",
       "    .dataframe thead th {\n",
       "        text-align: right;\n",
       "    }\n",
       "</style>\n",
       "<table border=\"1\" class=\"dataframe\">\n",
       "  <thead>\n",
       "    <tr style=\"text-align: right;\">\n",
       "      <th></th>\n",
       "      <th>249.0</th>\n",
       "      <th>250.0</th>\n",
       "      <th>251.0</th>\n",
       "      <th>252.0</th>\n",
       "      <th>253.0</th>\n",
       "      <th>254.0</th>\n",
       "      <th>255.0</th>\n",
       "      <th>256.0</th>\n",
       "      <th>257.0</th>\n",
       "      <th>258.0</th>\n",
       "      <th>...</th>\n",
       "      <th>292.0</th>\n",
       "      <th>293.0</th>\n",
       "      <th>294.0</th>\n",
       "      <th>295.0</th>\n",
       "      <th>296.0</th>\n",
       "      <th>297.0</th>\n",
       "      <th>298.0</th>\n",
       "      <th>299.0</th>\n",
       "      <th>300.0</th>\n",
       "      <th>301.0</th>\n",
       "    </tr>\n",
       "  </thead>\n",
       "  <tbody>\n",
       "    <tr>\n",
       "      <th>0</th>\n",
       "      <td>No</td>\n",
       "      <td>No</td>\n",
       "      <td>No</td>\n",
       "      <td>No</td>\n",
       "      <td>No</td>\n",
       "      <td>No</td>\n",
       "      <td>No</td>\n",
       "      <td>No</td>\n",
       "      <td>No</td>\n",
       "      <td>No</td>\n",
       "      <td>...</td>\n",
       "      <td>No</td>\n",
       "      <td>No</td>\n",
       "      <td>No</td>\n",
       "      <td>No</td>\n",
       "      <td>No</td>\n",
       "      <td>No</td>\n",
       "      <td>No</td>\n",
       "      <td>No</td>\n",
       "      <td>Yes</td>\n",
       "      <td>No</td>\n",
       "    </tr>\n",
       "  </tbody>\n",
       "</table>\n",
       "<p>1 rows × 53 columns</p>\n",
       "</div>"
      ],
      "text/plain": [
       "  249.0 250.0 251.0 252.0 253.0 254.0 255.0 256.0 257.0 258.0  ... 292.0  \\\n",
       "0    No    No    No    No    No    No    No    No    No    No  ...    No   \n",
       "\n",
       "  293.0 294.0 295.0 296.0 297.0 298.0 299.0 300.0 301.0  \n",
       "0    No    No    No    No    No    No    No   Yes    No  \n",
       "\n",
       "[1 rows x 53 columns]"
      ]
     },
     "execution_count": 41,
     "metadata": {},
     "output_type": "execute_result"
    }
   ],
   "source": [
    "lga_result"
   ]
  }
 ],
 "metadata": {
  "kernelspec": {
   "display_name": "Python 3.10.8 ('base')",
   "language": "python",
   "name": "python3"
  },
  "language_info": {
   "codemirror_mode": {
    "name": "ipython",
    "version": 3
   },
   "file_extension": ".py",
   "mimetype": "text/x-python",
   "name": "python",
   "nbconvert_exporter": "python",
   "pygments_lexer": "ipython3",
   "version": "3.10.8"
  },
  "orig_nbformat": 4,
  "vscode": {
   "interpreter": {
    "hash": "d4d1e4263499bec80672ea0156c357c1ee493ec2b1c70f0acce89fc37c4a6abe"
   }
  }
 },
 "nbformat": 4,
 "nbformat_minor": 2
}
